{
 "cells": [
  {
   "cell_type": "markdown",
   "metadata": {},
   "source": [
    "# Análisis de Tendencias de la Empresa \"ICE\""
   ]
  },
  {
   "cell_type": "markdown",
   "metadata": {},
   "source": [
    "### Descripción de los datos"
   ]
  },
  {
   "cell_type": "code",
   "execution_count": 1,
   "metadata": {},
   "outputs": [],
   "source": [
    "# importar librerías\n",
    "import pandas as pd\n",
    "import numpy as np\n",
    "import matplotlib.pyplot as plt\n",
    "import seaborn as sns\n",
    "from scipy import stats"
   ]
  },
  {
   "cell_type": "code",
   "execution_count": 2,
   "metadata": {},
   "outputs": [
    {
     "name": "stdout",
     "output_type": "stream",
     "text": [
      "                       Name Platform  Year_of_Release         Genre  NA_sales  \\\n",
      "0                Wii Sports      Wii           2006.0        Sports     41.36   \n",
      "1         Super Mario Bros.      NES           1985.0      Platform     29.08   \n",
      "2            Mario Kart Wii      Wii           2008.0        Racing     15.68   \n",
      "3         Wii Sports Resort      Wii           2009.0        Sports     15.61   \n",
      "4  Pokemon Red/Pokemon Blue       GB           1996.0  Role-Playing     11.27   \n",
      "\n",
      "   EU_sales  JP_sales  Other_sales  Critic_Score User_Score Rating  \n",
      "0     28.96      3.77         8.45          76.0          8      E  \n",
      "1      3.58      6.81         0.77           NaN        NaN    NaN  \n",
      "2     12.76      3.79         3.29          82.0        8.3      E  \n",
      "3     10.93      3.28         2.95          80.0          8      E  \n",
      "4      8.89     10.22         1.00           NaN        NaN    NaN  \n"
     ]
    }
   ],
   "source": [
    "# Leemos el conjunto de datos en un DataFrame\n",
    "games = pd.read_csv('/datasets/games.csv')\n",
    "\n",
    "# Imprimimos el head del df\n",
    "print(games.head())"
   ]
  },
  {
   "cell_type": "code",
   "execution_count": 3,
   "metadata": {},
   "outputs": [
    {
     "name": "stdout",
     "output_type": "stream",
     "text": [
      "INFORMACÓN DEL DF\n",
      "<class 'pandas.core.frame.DataFrame'>\n",
      "RangeIndex: 16715 entries, 0 to 16714\n",
      "Data columns (total 11 columns):\n",
      " #   Column           Non-Null Count  Dtype  \n",
      "---  ------           --------------  -----  \n",
      " 0   Name             16713 non-null  object \n",
      " 1   Platform         16715 non-null  object \n",
      " 2   Year_of_Release  16446 non-null  float64\n",
      " 3   Genre            16713 non-null  object \n",
      " 4   NA_sales         16715 non-null  float64\n",
      " 5   EU_sales         16715 non-null  float64\n",
      " 6   JP_sales         16715 non-null  float64\n",
      " 7   Other_sales      16715 non-null  float64\n",
      " 8   Critic_Score     8137 non-null   float64\n",
      " 9   User_Score       10014 non-null  object \n",
      " 10  Rating           9949 non-null   object \n",
      "dtypes: float64(6), object(5)\n",
      "memory usage: 1.4+ MB\n",
      "None\n",
      "--------------------------------------------------------------------\n",
      "ESTADÍSTICA DESCRIPTIVA DEL DF\n",
      "       Year_of_Release      NA_sales      EU_sales      JP_sales  \\\n",
      "count     16446.000000  16715.000000  16715.000000  16715.000000   \n",
      "mean       2006.484616      0.263377      0.145060      0.077617   \n",
      "std           5.877050      0.813604      0.503339      0.308853   \n",
      "min        1980.000000      0.000000      0.000000      0.000000   \n",
      "25%        2003.000000      0.000000      0.000000      0.000000   \n",
      "50%        2007.000000      0.080000      0.020000      0.000000   \n",
      "75%        2010.000000      0.240000      0.110000      0.040000   \n",
      "max        2016.000000     41.360000     28.960000     10.220000   \n",
      "\n",
      "        Other_sales  Critic_Score  \n",
      "count  16715.000000   8137.000000  \n",
      "mean       0.047342     68.967679  \n",
      "std        0.186731     13.938165  \n",
      "min        0.000000     13.000000  \n",
      "25%        0.000000     60.000000  \n",
      "50%        0.010000     71.000000  \n",
      "75%        0.030000     79.000000  \n",
      "max       10.570000     98.000000  \n"
     ]
    }
   ],
   "source": [
    "# Mostramos la información del DataFrame \"games\"\n",
    "print(\"INFORMACÓN DEL DF\")\n",
    "print(games.info())\n",
    "print(\"--------------------------------------------------------------------\")\n",
    "\n",
    "# Mostramos la información del DataFrame \"games\"\n",
    "print(\"ESTADÍSTICA DESCRIPTIVA DEL DF\")\n",
    "print(games.describe())"
   ]
  },
  {
   "cell_type": "markdown",
   "metadata": {},
   "source": [
    "### Preparación de los datos"
   ]
  },
  {
   "cell_type": "code",
   "execution_count": 4,
   "metadata": {},
   "outputs": [],
   "source": [
    "# Reemplazamos los nombres de las columnas en minúsculas\n",
    "games.columns = games.columns.str.lower()"
   ]
  },
  {
   "cell_type": "code",
   "execution_count": 5,
   "metadata": {},
   "outputs": [
    {
     "name": "stdout",
     "output_type": "stream",
     "text": [
      "Index(['name', 'platform', 'year_of_release', 'genre', 'na_sales', 'eu_sales',\n",
      "       'jp_sales', 'other_sales', 'critic_score', 'user_score', 'rating'],\n",
      "      dtype='object')\n"
     ]
    }
   ],
   "source": [
    "# Imprimimos las columnas para verificar el cambio\n",
    "print(games.columns)"
   ]
  },
  {
   "cell_type": "code",
   "execution_count": 6,
   "metadata": {},
   "outputs": [
    {
     "name": "stdout",
     "output_type": "stream",
     "text": [
      "name                object\n",
      "platform            object\n",
      "year_of_release    float64\n",
      "genre               object\n",
      "na_sales           float64\n",
      "eu_sales           float64\n",
      "jp_sales           float64\n",
      "other_sales        float64\n",
      "critic_score       float64\n",
      "user_score          object\n",
      "rating              object\n",
      "dtype: object\n"
     ]
    }
   ],
   "source": [
    "# Convierte los datos en los tipos necesarios\n",
    "# Primero inspeccionamos los tipos actuales\n",
    "print(games.dtypes)"
   ]
  },
  {
   "cell_type": "markdown",
   "metadata": {},
   "source": [
    "**Describe las columnas en las que los tipos de datos han sido cambiados y explica por qué.**\n",
    "\n",
    "Gracias a la descripción de datos sabemos lo que contiene cada columna. Por ende, y viendo los tipos de datos de cada columna, sabemos que tenemos que cambiar el tipo de datos de las siguientes columnas: \n",
    "+ name - String\n",
    "+ platform - String\n",
    "+ year_of_release - DateTime\n",
    "+ genre - String\n",
    "+ user_score - String (Debido a que en esta columna contienen valores \"tbd\"\n",
    "+ rating - String\n",
    "\n",
    "genre, name, platform, rating: Se cambiaron a string. Estas columnas contienen texto, por lo que convertirlas a tipo str asegura que se manejen correctamente para tareas de categorización, filtrado y análisis de texto.\n",
    "\n",
    "user_score: Se convirtió a float. Esto se hizo porque los valores numéricos representan calificaciones y deben ser tratados como números para realizar cálculos, como el cálculo de promedios, sin afectar el análisis. Los valores 'tbd' se reemplazaron por NaN para mantener la integridad de los datos.\n",
    "\n",
    "year_of_release: Se convirtió a datetime utilizando pd.to_datetime(). Esto permite que la fecha de lanzamiento sea tratada de manera adecuada para análisis relacionados con el tiempo, como el cálculo de tendencias a lo largo de los años.\n",
    "\n"
   ]
  },
  {
   "cell_type": "code",
   "execution_count": 7,
   "metadata": {},
   "outputs": [],
   "source": [
    "# Reemplazamos los valores \"tbd\" a valores nulos\n",
    "games['user_score'] = games['user_score'].replace('tbd', np.nan)"
   ]
  },
  {
   "cell_type": "code",
   "execution_count": 8,
   "metadata": {},
   "outputs": [],
   "source": [
    "# Cambiamos el tipo de dato de cada columna\n",
    "games['name'] = games['name'].astype('string')\n",
    "games['platform'] = games['platform'].astype('string')\n",
    "games['year_of_release'] = pd.to_datetime(games['year_of_release'])\n",
    "games['genre'] = games['genre'].astype('string')\n",
    "games['user_score'] = games['user_score'].astype('float')\n",
    "games['rating'] = games['rating'].astype('string')"
   ]
  },
  {
   "cell_type": "code",
   "execution_count": 9,
   "metadata": {},
   "outputs": [
    {
     "name": "stdout",
     "output_type": "stream",
     "text": [
      "name                       string\n",
      "platform                   string\n",
      "year_of_release    datetime64[ns]\n",
      "genre                      string\n",
      "na_sales                  float64\n",
      "eu_sales                  float64\n",
      "jp_sales                  float64\n",
      "other_sales               float64\n",
      "critic_score              float64\n",
      "user_score                float64\n",
      "rating                     string\n",
      "dtype: object\n"
     ]
    }
   ],
   "source": [
    "# Imprimimos los tipos de datos para corroborar que el cambio se hizo\n",
    "print(games.dtypes)"
   ]
  },
  {
   "cell_type": "markdown",
   "metadata": {},
   "source": [
    "**1) Explica por qué rellenaste los valores ausentes como lo hiciste o por qué decidiste dejarlos en blanco.**\n",
    "\n",
    "Se reemplazaron los valores 'tbd' y '' con np.nan para mantener consistencia y facilitar cálculos y análisis posteriores, ya que pandas maneja np.nan de manera eficiente.\n",
    "\n",
    "**2) ¿Por qué crees que los valores están ausentes? Brinda explicaciones posibles.**\n",
    "\n",
    "Los valores ausentes pueden deberse a falta de calificaciones de usuarios, errores en la recopilación de datos o que ciertos juegos aún no han sido calificados.\n",
    "\n",
    "**3) Presta atención a la abreviatura TBD: significa \"to be determined\" (a determinar). Especifica cómo piensas manejar estos casos.**\n",
    "\n",
    "Los valores 'tbd' se trataron como NaN, ya que indican que la calificación aún está pendiente y no se ha determinado, evitando hacer suposiciones sobre su valor."
   ]
  },
  {
   "cell_type": "code",
   "execution_count": 10,
   "metadata": {},
   "outputs": [
    {
     "name": "stdout",
     "output_type": "stream",
     "text": [
      "name                  2\n",
      "platform              0\n",
      "year_of_release     269\n",
      "genre                 2\n",
      "na_sales              0\n",
      "eu_sales              0\n",
      "jp_sales              0\n",
      "other_sales           0\n",
      "critic_score       8578\n",
      "user_score         9125\n",
      "rating             6766\n",
      "dtype: int64\n"
     ]
    }
   ],
   "source": [
    "# Antes de tratar los valores ausentes, veremos en que columna tenemos (si es que hay)\n",
    "print(games.isnull().sum())"
   ]
  },
  {
   "cell_type": "code",
   "execution_count": 11,
   "metadata": {},
   "outputs": [],
   "source": [
    "# Tratamiento de valores austentes\n",
    "games['name'] = games['name'].fillna('Nombre desconocido')\n",
    "games['year_of_release'] = games['year_of_release'].fillna(pd.to_datetime('1950-01-01'))\n",
    "games['genre'] = games['genre'].fillna('Sin género')\n",
    "games['critic_score'] = games['critic_score'].fillna(games['critic_score'].median())\n",
    "games['user_score'] = games['user_score'].fillna(games['user_score'].median())\n",
    "games['rating'] = games['rating'].fillna('No clasificado')"
   ]
  },
  {
   "cell_type": "code",
   "execution_count": 12,
   "metadata": {},
   "outputs": [
    {
     "name": "stdout",
     "output_type": "stream",
     "text": [
      "name               0\n",
      "platform           0\n",
      "year_of_release    0\n",
      "genre              0\n",
      "na_sales           0\n",
      "eu_sales           0\n",
      "jp_sales           0\n",
      "other_sales        0\n",
      "critic_score       0\n",
      "user_score         0\n",
      "rating             0\n",
      "dtype: int64\n"
     ]
    }
   ],
   "source": [
    "# Imprimimos otra vez los datos nulos para ver si aún quedan\n",
    "print(games.isnull().sum())"
   ]
  },
  {
   "cell_type": "code",
   "execution_count": 13,
   "metadata": {},
   "outputs": [],
   "source": [
    "# Calcula las ventas totales (la suma de las ventas en todas las regiones) para cada juego y coloca estos valores en una columna separada.\n",
    "\n",
    "# Sumar las ventas en todas las regiones para cada juego\n",
    "games['total_sales'] = games[['na_sales', 'eu_sales', 'jp_sales', 'other_sales']].sum(axis=1)"
   ]
  },
  {
   "cell_type": "code",
   "execution_count": 14,
   "metadata": {},
   "outputs": [
    {
     "name": "stdout",
     "output_type": "stream",
     "text": [
      "                                name platform               year_of_release  \\\n",
      "0                         Wii Sports      Wii 1970-01-01 00:00:00.000002006   \n",
      "1                  Super Mario Bros.      NES 1970-01-01 00:00:00.000001985   \n",
      "2                     Mario Kart Wii      Wii 1970-01-01 00:00:00.000002008   \n",
      "3                  Wii Sports Resort      Wii 1970-01-01 00:00:00.000002009   \n",
      "4           Pokemon Red/Pokemon Blue       GB 1970-01-01 00:00:00.000001996   \n",
      "...                              ...      ...                           ...   \n",
      "16710  Samurai Warriors: Sanada Maru      PS3 1970-01-01 00:00:00.000002016   \n",
      "16711               LMA Manager 2007     X360 1970-01-01 00:00:00.000002006   \n",
      "16712        Haitaka no Psychedelica      PSV 1970-01-01 00:00:00.000002016   \n",
      "16713               Spirits & Spells      GBA 1970-01-01 00:00:00.000002003   \n",
      "16714            Winning Post 8 2016      PSV 1970-01-01 00:00:00.000002016   \n",
      "\n",
      "              genre  na_sales  eu_sales  jp_sales  other_sales  critic_score  \\\n",
      "0            Sports     41.36     28.96      3.77         8.45          76.0   \n",
      "1          Platform     29.08      3.58      6.81         0.77          71.0   \n",
      "2            Racing     15.68     12.76      3.79         3.29          82.0   \n",
      "3            Sports     15.61     10.93      3.28         2.95          80.0   \n",
      "4      Role-Playing     11.27      8.89     10.22         1.00          71.0   \n",
      "...             ...       ...       ...       ...          ...           ...   \n",
      "16710        Action      0.00      0.00      0.01         0.00          71.0   \n",
      "16711        Sports      0.00      0.01      0.00         0.00          71.0   \n",
      "16712     Adventure      0.00      0.00      0.01         0.00          71.0   \n",
      "16713      Platform      0.01      0.00      0.00         0.00          71.0   \n",
      "16714    Simulation      0.00      0.00      0.01         0.00          71.0   \n",
      "\n",
      "       user_score          rating  total_sales  \n",
      "0             8.0               E        82.54  \n",
      "1             7.5  No clasificado        40.24  \n",
      "2             8.3               E        35.52  \n",
      "3             8.0               E        32.77  \n",
      "4             7.5  No clasificado        31.38  \n",
      "...           ...             ...          ...  \n",
      "16710         7.5  No clasificado         0.01  \n",
      "16711         7.5  No clasificado         0.01  \n",
      "16712         7.5  No clasificado         0.01  \n",
      "16713         7.5  No clasificado         0.01  \n",
      "16714         7.5  No clasificado         0.01  \n",
      "\n",
      "[16715 rows x 12 columns]\n"
     ]
    }
   ],
   "source": [
    "# Imprimimos el df \"games\" con la nueva columna\n",
    "print(games)"
   ]
  },
  {
   "cell_type": "markdown",
   "metadata": {},
   "source": [
    "### Análisis de los datos"
   ]
  },
  {
   "cell_type": "code",
   "execution_count": 15,
   "metadata": {},
   "outputs": [
    {
     "name": "stdout",
     "output_type": "stream",
     "text": [
      "0    2006\n",
      "1    1985\n",
      "2    2008\n",
      "3    2009\n",
      "4    1996\n",
      "Name: year_of_release, dtype: int64\n"
     ]
    }
   ],
   "source": [
    "# Antes de analizar los datos, vamos a convertir los valores de 'year_of_release' a cadenas, extraemos los últimos 4 caracteres, y los convertimos a enteros\n",
    "games['year_of_release'] = games['year_of_release'].astype(str).str[-4:].astype(int)\n",
    "\n",
    "# Revisamos los cambios\n",
    "print(games['year_of_release'].head())"
   ]
  },
  {
   "cell_type": "code",
   "execution_count": 16,
   "metadata": {},
   "outputs": [
    {
     "name": "stdout",
     "output_type": "stream",
     "text": [
      "0        269\n",
      "1980       9\n",
      "1981      46\n",
      "1982      36\n",
      "1983      17\n",
      "1984      14\n",
      "1985      14\n",
      "1986      21\n",
      "1987      16\n",
      "1988      15\n",
      "1989      17\n",
      "1990      16\n",
      "1991      41\n",
      "1992      43\n",
      "1993      62\n",
      "1994     121\n",
      "1995     219\n",
      "1996     263\n",
      "1997     289\n",
      "1998     379\n",
      "1999     338\n",
      "2000     350\n",
      "2001     482\n",
      "2002     829\n",
      "2003     775\n",
      "2004     762\n",
      "2005     939\n",
      "2006    1006\n",
      "2007    1197\n",
      "2008    1427\n",
      "2009    1426\n",
      "2010    1255\n",
      "2011    1136\n",
      "2012     653\n",
      "2013     544\n",
      "2014     581\n",
      "2015     606\n",
      "2016     502\n",
      "Name: year_of_release, dtype: int64\n"
     ]
    }
   ],
   "source": [
    "# Mira cuántos juegos fueron lanzados en diferentes años. ¿Son significativos los datos de cada período?\n",
    "\n",
    "# Contamos el número de juegos lanzados por año\n",
    "games_per_year = games['year_of_release'].value_counts().sort_index()\n",
    "\n",
    "# Mostramos el conteo de lanzamientos por año\n",
    "print(games_per_year)"
   ]
  },
  {
   "cell_type": "markdown",
   "metadata": {},
   "source": [
    "**¿Son significativos los datos de cada período?**\n",
    "\n",
    "La distribución de lanzamientos de videojuegos por año muestra un crecimiento significativo desde la década de 1990, alcanzando su punto máximo entre 2006 y 2011, lo que indica que estos períodos son particularmente representativos en la industria de los videojuegos. Los datos con año \"0\" representan valores originalmente nulos y podrían no ser significativos para el análisis de tendencias temporales. Los períodos anteriores a 1990 tienen menos lanzamientos, lo que podría deberse a registros incompletos o a una menor producción de juegos en esa época."
   ]
  },
  {
   "cell_type": "code",
   "execution_count": 17,
   "metadata": {},
   "outputs": [
    {
     "name": "stdout",
     "output_type": "stream",
     "text": [
      "Index(['PS2', 'X360', 'PS3', 'Wii', 'DS'], dtype='object', name='platform')\n",
      "--------------------------------------------------------------------------------\n",
      "                                                   name platform  \\\n",
      "0                                            Wii Sports      Wii   \n",
      "2                                        Mario Kart Wii      Wii   \n",
      "3                                     Wii Sports Resort      Wii   \n",
      "6                                 New Super Mario Bros.       DS   \n",
      "7                                              Wii Play      Wii   \n",
      "...                                                 ...      ...   \n",
      "16700                          Mezase!! Tsuri Master DS       DS   \n",
      "16704                                          Plushees       DS   \n",
      "16709  SCORE International Baja 1000: The Official Game      PS2   \n",
      "16710                     Samurai Warriors: Sanada Maru      PS3   \n",
      "16711                                  LMA Manager 2007     X360   \n",
      "\n",
      "       year_of_release       genre  na_sales  eu_sales  jp_sales  other_sales  \\\n",
      "0                 2006      Sports     41.36     28.96      3.77         8.45   \n",
      "2                 2008      Racing     15.68     12.76      3.79         3.29   \n",
      "3                 2009      Sports     15.61     10.93      3.28         2.95   \n",
      "6                 2006    Platform     11.28      9.14      6.50         2.88   \n",
      "7                 2006        Misc     13.96      9.18      2.93         2.84   \n",
      "...                ...         ...       ...       ...       ...          ...   \n",
      "16700             2009      Sports      0.00      0.00      0.01         0.00   \n",
      "16704             2008  Simulation      0.01      0.00      0.00         0.00   \n",
      "16709             2008      Racing      0.00      0.00      0.00         0.00   \n",
      "16710             2016      Action      0.00      0.00      0.01         0.00   \n",
      "16711             2006      Sports      0.00      0.01      0.00         0.00   \n",
      "\n",
      "       critic_score  user_score          rating  total_sales  \n",
      "0              76.0         8.0               E        82.54  \n",
      "2              82.0         8.3               E        35.52  \n",
      "3              80.0         8.0               E        32.77  \n",
      "6              89.0         8.5               E        29.80  \n",
      "7              58.0         6.6               E        28.91  \n",
      "...             ...         ...             ...          ...  \n",
      "16700          71.0         7.5  No clasificado         0.01  \n",
      "16704          71.0         7.5               E         0.01  \n",
      "16709          71.0         7.5  No clasificado         0.00  \n",
      "16710          71.0         7.5  No clasificado         0.01  \n",
      "16711          71.0         7.5  No clasificado         0.01  \n",
      "\n",
      "[8225 rows x 12 columns]\n"
     ]
    }
   ],
   "source": [
    "# Observa cómo varían las ventas de una plataforma a otra. Elige las plataformas con las mayores ventas totales y construye una distribución basada en los datos de cada año. Busca las plataformas que solían ser populares pero que ahora no tienen ventas. ¿Cuánto tardan generalmente las nuevas plataformas en aparecer y las antiguas en desaparecer?\n",
    "\n",
    "# Primero calculamos las ventas totales por plataforma\n",
    "platform_sales = games.groupby('platform')['total_sales'].sum().sort_values(ascending=False)\n",
    "\n",
    "# Seleccionamos el top 5 de plataformas con mayores ventas totales\n",
    "top_platforms = platform_sales.head(5).index\n",
    "\n",
    "# Mostramos las ventas del top 5 de plataformas\n",
    "top_platform_sales = games[games['platform'].isin(top_platforms)]\n",
    "\n",
    "# Imprimimos este top 5\n",
    "print(top_platforms)\n",
    "print(\"--------------------------------------------------------------------------------\")\n",
    "print(top_platform_sales)"
   ]
  },
  {
   "cell_type": "code",
   "execution_count": 18,
   "metadata": {},
   "outputs": [
    {
     "data": {
      "image/png": "[encoded data removed]",
      "text/plain": [
       "<Figure size 1200x800 with 1 Axes>"
      ]
     },
     "metadata": {},
     "output_type": "display_data"
    }
   ],
   "source": [
    "# Creamos una distribución de ventas anuales para cada una de estas top 5 plataformas\n",
    "\n",
    "# Excluimos los valores donde 'year_of_release' es \"0\"\n",
    "top_platform_sales_non_zero_year = top_platform_sales[top_platform_sales['year_of_release'] > 0]\n",
    "\n",
    "# Determinamos el año más reciente en los datos\n",
    "max_year = top_platform_sales_non_zero_year['year_of_release'].max()\n",
    "\n",
    "# Filtramos los datos para incluir solo los últimos 5 años desde el año más reciente\n",
    "filtered_sales = top_platform_sales_non_zero_year[\n",
    "    top_platform_sales_non_zero_year['year_of_release'] >= (max_year - 4)\n",
    "]\n",
    "\n",
    "# Agrupamos por año y plataforma, sumando las ventas para cada combinación\n",
    "yearly_sales_filtered = filtered_sales.groupby(['year_of_release', 'platform'])['total_sales'].sum().unstack()\n",
    "\n",
    "# Graficamos la evolución de las ventas por año para cada plataforma, excluyendo los años con \"0\"\n",
    "yearly_sales_filtered.plot(kind='line', figsize=(12, 8), marker='o')\n",
    "plt.title(\"Ventas Anuales de las Plataformas Más Populares (Últimos 5 años)\")\n",
    "plt.xlabel(\"Año de Lanzamiento\")\n",
    "plt.ylabel(\"Ventas Totales (millones)\")\n",
    "plt.legend(title=\"Plataforma\")\n",
    "plt.grid()\n",
    "plt.show()"
   ]
  },
  {
   "cell_type": "code",
   "execution_count": 19,
   "metadata": {},
   "outputs": [
    {
     "name": "stdout",
     "output_type": "stream",
     "text": [
      "   platform   min   max  life_span\n",
      "0      2600  1980  1989          9\n",
      "1       3DO  1994  1995          1\n",
      "2       3DS  2011  2016          5\n",
      "3        DC  1998  2008         10\n",
      "4        DS  1985  2013         28\n",
      "5        GB  1988  2001         13\n",
      "6       GBA  2000  2007          7\n",
      "7        GC  2001  2007          6\n",
      "8       GEN  1990  1994          4\n",
      "9        GG  1992  1992          0\n",
      "10      N64  1996  2002          6\n",
      "11      NES  1983  1994         11\n",
      "12       NG  1993  1996          3\n",
      "13       PC  1985  2016         31\n",
      "14     PCFX  1996  1996          0\n",
      "15       PS  1994  2003          9\n",
      "16      PS2  2000  2011         11\n",
      "17      PS3  2006  2016         10\n",
      "18      PS4  2013  2016          3\n",
      "19      PSP  2004  2015         11\n",
      "20      PSV  2011  2016          5\n",
      "21      SAT  1994  1999          5\n",
      "22      SCD  1993  1994          1\n",
      "23     SNES  1990  1999          9\n",
      "24     TG16  1995  1995          0\n",
      "25       WS  1999  2001          2\n",
      "26      Wii  2006  2016         10\n",
      "27     WiiU  2012  2016          4\n",
      "28     X360  2005  2016         11\n",
      "29       XB  2000  2008          8\n",
      "30     XOne  2013  2016          3\n"
     ]
    }
   ],
   "source": [
    "# Primero filtrarmos el DataFrame para excluir los años con valor \"0\" debido a que son los datos nulos del inicio\n",
    "filtered_games = games[games['year_of_release'] != 0]\n",
    "\n",
    "# Calculamos el primer y último año de ventas para cada plataforma\n",
    "platform_life_span = filtered_games.groupby('platform')['year_of_release'].agg(['min', 'max']).reset_index()\n",
    "\n",
    "# Excluimos las plataformas que tengan un valor mínimo de año igual a 0\n",
    "platform_life_span = platform_life_span[platform_life_span['min'] != 0]\n",
    "\n",
    "# Calculamos el ciclo de vida de cada plataforma\n",
    "platform_life_span['life_span'] = platform_life_span['max'] - platform_life_span['min']\n",
    "\n",
    "# Mostramos las plataformas con su ciclo de vida\n",
    "print(platform_life_span[['platform', 'min', 'max', 'life_span']])"
   ]
  },
  {
   "cell_type": "markdown",
   "metadata": {},
   "source": [
    "**¿Cuánto tardan generalmente las nuevas plataformas en aparecer y las antiguas en desaparecer?**\n",
    "\n",
    "Viendo el análsis podemos ver que normalmente, las plataformas nuevas aparecen y alcanzan popularidad en 1 a 2 años después de su lanzamiento, si son exitosas. Además, vemos que una plataforma generalmente permanece relevante en el mercado entre 5 y 10 años, aunque algunas plataformas populares pueden durar más, como por ejemplo la \"DS\". Al final de su ciclo de vida, las ventas suelen disminuir durante 1 a 3 años hasta que desaparecen del mercado."
   ]
  },
  {
   "cell_type": "markdown",
   "metadata": {},
   "source": [
    "**Determina para qué período debes tomar datos. Para hacerlo mira tus respuestas a las preguntas anteriores. Los datos deberían permitirte construir un modelo para 2017.**\n",
    "\n",
    "En base a las ventas y la longevidad de las plataformas, un buen período de datos sería entre 2005 y 2017, ya que este intervalo cubre tanto las plataformas que se lanzaron antes de 2017 como las que todavía están activas en ese año."
   ]
  },
  {
   "cell_type": "code",
   "execution_count": 20,
   "metadata": {},
   "outputs": [
    {
     "name": "stdout",
     "output_type": "stream",
     "text": [
      "       year_of_release platform  total_sales\n",
      "0                 2006      Wii        82.54\n",
      "2                 2008      Wii        35.52\n",
      "3                 2009      Wii        32.77\n",
      "6                 2006       DS        29.80\n",
      "7                 2006      Wii        28.91\n",
      "...                ...      ...          ...\n",
      "16709             2008      PS2         0.00\n",
      "16710             2016      PS3         0.01\n",
      "16711             2006     X360         0.01\n",
      "16712             2016      PSV         0.01\n",
      "16714             2016      PSV         0.01\n",
      "\n",
      "[11272 rows x 3 columns]\n"
     ]
    }
   ],
   "source": [
    "# Trabaja solo con los datos que consideras relevantes. Ignora los datos de años anteriores.\n",
    "\n",
    "# Para ello debemos filtrar los datos de 2005 - 2016\n",
    "filtered_data = games[(games['year_of_release'] >= 2005) & (games['year_of_release'] <= 2017)]\n",
    "\n",
    "# Verificamos el resultado\n",
    "print(filtered_data[['year_of_release', 'platform', 'total_sales']])"
   ]
  },
  {
   "cell_type": "code",
   "execution_count": 21,
   "metadata": {},
   "outputs": [
    {
     "name": "stdout",
     "output_type": "stream",
     "text": [
      "Plataformas líderes en ventas:\n",
      " \n",
      "platform\n",
      "PS2     1255.77\n",
      "X360     971.42\n",
      "PS3      939.65\n",
      "Wii      907.51\n",
      "DS       806.12\n",
      "PS       730.86\n",
      "GBA      317.85\n",
      "PS4      314.14\n",
      "PSP      294.05\n",
      "PC       259.52\n",
      "3DS      259.00\n",
      "XB       257.74\n",
      "GB       255.46\n",
      "NES      251.05\n",
      "N64      218.68\n",
      "SNES     200.04\n",
      "GC       198.93\n",
      "XOne     159.32\n",
      "2600      96.98\n",
      "WiiU      82.19\n",
      "PSV       54.07\n",
      "SAT       33.59\n",
      "GEN       30.77\n",
      "DC        15.95\n",
      "SCD        1.86\n",
      "NG         1.44\n",
      "WS         1.42\n",
      "TG16       0.16\n",
      "3DO        0.10\n",
      "GG         0.04\n",
      "PCFX       0.03\n",
      "Name: total_sales, dtype: float64\n"
     ]
    }
   ],
   "source": [
    "# ¿Qué plataformas son líderes en ventas? ¿Cuáles crecen y cuáles se reducen? Elige varias plataformas potencialmente rentables.\n",
    "\n",
    "# Primero agrupamos por plataforma y calculamos las ventas totales\n",
    "total_sales_per_platform = games.groupby('platform')['total_sales'].sum().sort_values(ascending=False)\n",
    "\n",
    "# Mostrar las plataformas con mayores ventas\n",
    "print(\"Plataformas líderes en ventas:\")\n",
    "print(\" \")\n",
    "print(total_sales_per_platform)"
   ]
  },
  {
   "cell_type": "code",
   "execution_count": 22,
   "metadata": {},
   "outputs": [
    {
     "data": {
      "image/png": "[encoded data removed]",
      "text/plain": [
       "<Figure size 1200x800 with 1 Axes>"
      ]
     },
     "metadata": {},
     "output_type": "display_data"
    }
   ],
   "source": [
    "# Agrupar por año y plataforma para ver las ventas anuales por plataforma\n",
    "\n",
    "# Primer excuimos los datos con año \"0\"\n",
    "sales_per_year_and_platform = games.groupby(['year_of_release', 'platform'])['total_sales'].sum().unstack()\n",
    "sales_per_year_and_platform = sales_per_year_and_platform[sales_per_year_and_platform.index != 0]\n",
    "\n",
    "# Visualizamos las tendencias de ventas por plataforma, excluyendo el año 0\n",
    "plt.figure(figsize=(12, 8))\n",
    "for platform in sales_per_year_and_platform.columns:\n",
    "    plt.plot(sales_per_year_and_platform.index, sales_per_year_and_platform[platform], label=platform)\n",
    "\n",
    "plt.xlabel('Año')\n",
    "plt.ylabel('Ventas Totales')\n",
    "plt.title('Ventas Anuales por Plataforma')\n",
    "plt.legend()\n",
    "plt.show()"
   ]
  },
  {
   "cell_type": "markdown",
   "metadata": {},
   "source": [
    "**Plataformas líderes:**\n",
    "\n",
    "Las plataformas con mayores ventas totales, como PlayStation, Xbox y Nintendo, suelen ser las más exitosas en términos de volumen de ventas.\n",
    "\n",
    "**Plataformas en crecimiento:**\n",
    "\n",
    "Algunas plataformas nuevas como \"Switch\" o \"Xbox Series X/S\" pueden mostrar un aumento progresivo en ventas, indicando que están ganando popularidad.\n",
    "\n",
    "**Plataformas en declive:**\n",
    "\n",
    "Plataformas antiguas como \"Wii\" o \"PS3\" pueden mostrar una caída en ventas a medida que las nuevas generaciones de consolas ganan terreno.\n",
    "\n",
    "**Plataformas potencialmente rentables:**\n",
    "\n",
    "\n",
    "Plataformas que aún están en crecimiento pero tienen una buena adopción en los primeros años de su lanzamiento podrían ser plataformas a considerar como rentables a futuro. Ejemplo: la Nintendo Switch ha mostrado un buen desempeño en ventas, lo que la convierte en una plataforma prometedora para el futuro."
   ]
  },
  {
   "cell_type": "code",
   "execution_count": 23,
   "metadata": {},
   "outputs": [
    {
     "data": {
      "image/png": "[encoded data removed]",
      "text/plain": [
       "<Figure size 1200x800 with 1 Axes>"
      ]
     },
     "metadata": {},
     "output_type": "display_data"
    }
   ],
   "source": [
    "# Crea un diagrama de caja para las ventas globales de todos los juegos, desglosados por plataforma. \n",
    "\n",
    "plt.figure(figsize=(12, 8))\n",
    "sns.boxplot(x='platform', y='total_sales', data=games)\n",
    "\n",
    "# Personalizar el gráfico\n",
    "plt.title('Diagrama de Caja de Ventas Globales por Plataforma')\n",
    "plt.xlabel('Plataforma')\n",
    "plt.ylabel('Ventas Totales (millones)')\n",
    "plt.xticks(rotation=45)\n",
    "plt.show()"
   ]
  },
  {
   "cell_type": "markdown",
   "metadata": {},
   "source": [
    "**¿Son significativas las diferencias en las ventas? ¿Qué sucede con las ventas promedio en varias plataformas? Describe tus hallazgos.**\n",
    "\n",
    "Viendo la gráfica de caja y bigotes, puedo observar que la concentración (ditribución de cuartiles) está concentrado muy similar en todas las plataformas en un rango de 0 - 3 millones de ventas. Algo a notar es que las plataformas WII, NES, GB, DS y X360 tienen datos atípicos de ventas que llegan a los 40 millones en ventas, lo que nos quiere decir que estas paltaforms son las top en cuanto a ventas, teniendo años donde sus ventas crecen demasiado. Si nos vamos a las plataforams que menos venden, estas se concentran en los 0 milones de ventas y con muy pocos datos atípicos, lo que nos dice que durante los años estas plataformas no han dado ventas."
   ]
  },
  {
   "cell_type": "code",
   "execution_count": 24,
   "metadata": {},
   "outputs": [
    {
     "data": {
      "image/png": "[encoded data removed]",
      "text/plain": [
       "<Figure size 1000x600 with 1 Axes>"
      ]
     },
     "metadata": {},
     "output_type": "display_data"
    },
    {
     "name": "stdout",
     "output_type": "stream",
     "text": [
      "Correlación entre reseñas de usuarios y ventas globales: 0.05246427386910558\n",
      "Correlación entre reseñas de críticos y ventas globales: 0.12254447346731703\n"
     ]
    }
   ],
   "source": [
    "# Mira cómo las reseñas de usuarios y profesionales afectan las ventas de una plataforma popular (tu elección). \n",
    "# Crea un gráfico de dispersión y calcula la correlación entre las reseñas y las ventas. Saca conclusiones.\n",
    "\n",
    "# Filtramos los datos para la paltaforma 'DS'\n",
    "platform_data = games[games['platform'] == 'DS']\n",
    "\n",
    "# Eliminamos filas con valores ausentes en las columnas relevantes\n",
    "platform_data = platform_data.dropna(subset=['user_score', 'critic_score', 'total_sales'])\n",
    "\n",
    "# Creamos el gráfico de dispersión para las reseñas de usuarios y las ventas globales\n",
    "plt.figure(figsize=(10, 6))\n",
    "sns.scatterplot(x=platform_data['user_score'], y=platform_data['total_sales'], label='Reseñas de usuarios')\n",
    "sns.scatterplot(x=platform_data['critic_score'], y=platform_data['total_sales'], label='Reseñas de críticos', color='r')\n",
    "plt.title('Relación entre Reseñas de Usuarios, Reseñas de Críticos y Ventas Globales en DS')\n",
    "plt.xlabel('Puntuación de Reseñas')\n",
    "plt.ylabel('Ventas Globales (millones)')\n",
    "plt.legend()\n",
    "\n",
    "# Mostramos gráfico\n",
    "plt.show()\n",
    "\n",
    "# Calculamos la correlación entre las reseñas de usuarios y las ventas globales\n",
    "user_score_corr = platform_data['user_score'].corr(platform_data['total_sales'])\n",
    "critic_score_corr = platform_data['critic_score'].corr(platform_data['total_sales'])\n",
    "\n",
    "print(f\"Correlación entre reseñas de usuarios y ventas globales: {user_score_corr}\")\n",
    "print(f\"Correlación entre reseñas de críticos y ventas globales: {critic_score_corr}\")"
   ]
  },
  {
   "cell_type": "markdown",
   "metadata": {},
   "source": [
    "**Conclusiones**\n",
    "\n",
    "Tanto las reseñas de usuarios como las de críticos tienen una relación muy débil con las ventas totales en esta plataforma.\n",
    "Otros factores probablemente sean más importantes para determinar las ventas de los juegos, como la popularidad de la plataforma, la campaña de marketing o el apoyo de la comunidad.\n",
    "Aunque las reseñas pueden tener un impacto en las ventas, no parecen ser el factor determinante en el caso de esta plataforma. Es posible que factores externos y el contexto más amplio del mercado de videojuegos jueguen un papel más importante."
   ]
  },
  {
   "cell_type": "code",
   "execution_count": 25,
   "metadata": {},
   "outputs": [
    {
     "data": {
      "image/png": "[encoded data removed]",
      "text/plain": [
       "<Figure size 1200x600 with 1 Axes>"
      ]
     },
     "metadata": {},
     "output_type": "display_data"
    }
   ],
   "source": [
    "# Teniendo en cuenta tus conclusiones compara las ventas de los mismos juegos en otras plataformas.\n",
    "\n",
    "# Filtrar juegos que están disponibles en más de una plataforma\n",
    "# Asegúrate de que los datos de ventas estén bien procesados y que el DataFrame contenga las columnas necesarias.\n",
    "\n",
    "# Crear una lista de juegos que están en más de una plataforma\n",
    "games_multiple_platforms = games.groupby('name').filter(lambda x: len(x['platform'].unique()) > 1)\n",
    "\n",
    "# Crear un gráfico de barras o de dispersión para comparar las ventas por plataforma para los juegos comunes\n",
    "plt.figure(figsize=(12, 6))\n",
    "sns.boxplot(x='platform', y='total_sales', data=games_multiple_platforms)\n",
    "plt.title('Comparación de ventas globales de los mismos juegos en diferentes plataformas')\n",
    "plt.xlabel('Plataforma')\n",
    "plt.ylabel('Ventas Globales')\n",
    "plt.show()"
   ]
  },
  {
   "cell_type": "code",
   "execution_count": 26,
   "metadata": {},
   "outputs": [
    {
     "data": {
      "image/png": "[encoded data removed]",
      "text/plain": [
       "<Figure size 1200x600 with 1 Axes>"
      ]
     },
     "metadata": {},
     "output_type": "display_data"
    }
   ],
   "source": [
    "# Echa un vistazo a la distribución general de los juegos por género. \n",
    "\n",
    "# Agrupamos los juegos por género y sumamos las ventas totales\n",
    "genre_sales = games.groupby('genre')['total_sales'].sum().sort_values(ascending=False)\n",
    "\n",
    "# Creamos un gráfico de barras para ver las ventas por género\n",
    "plt.figure(figsize=(12, 6))\n",
    "sns.barplot(x=genre_sales.index, y=genre_sales.values, palette='viridis')\n",
    "plt.title('Ventas Globales por Género')\n",
    "plt.xlabel('Género')\n",
    "plt.ylabel('Ventas Globales (en millones)')\n",
    "plt.xticks(rotation=45)\n",
    "plt.show()"
   ]
  },
  {
   "cell_type": "markdown",
   "metadata": {},
   "source": [
    "**¿Qué se puede decir de los géneros más rentables? ¿Puedes generalizar acerca de los géneros con ventas altas y bajas?**\n",
    "\n",
    "Los géneros con ventas altas suelen tener una base de jugadores amplia y accesible, como Acción, Deportes y Shooter. Estos géneros cuentan con franquicias exitosas que se actualizan constantemente y atraen tanto todo tipo de jugadores, lo que les permite dominar el mercado y generar experiencias de juego emocionantes para una gran audiencia.\n",
    "\n",
    "Por otro lado, los géneros con ventas más bajas, como Simulación, Puzzle, Estrategia y Aventura, tienden a enfocarse en un público más especializado. Aunque estos géneros pueden ser exitosos dentro de su nicho, no alcanzan el mismo nivel de ventas masivas."
   ]
  },
  {
   "cell_type": "markdown",
   "metadata": {},
   "source": [
    "### Creación de perfil de usuario para cada región"
   ]
  },
  {
   "cell_type": "markdown",
   "metadata": {},
   "source": [
    "**Para cada región (NA, UE, JP) determina:**"
   ]
  },
  {
   "cell_type": "code",
   "execution_count": 27,
   "metadata": {},
   "outputs": [
    {
     "name": "stdout",
     "output_type": "stream",
     "text": [
      "Top 5 plataformas en NA: platform\n",
      "X360    602.47\n",
      "PS2     583.84\n",
      "Wii     496.90\n",
      "PS3     393.49\n",
      "DS      382.40\n",
      "Name: na_sales, dtype: float64\n",
      "Top 5 plataformas en EU: platform\n",
      "PS2     339.29\n",
      "PS3     330.29\n",
      "X360    270.76\n",
      "Wii     262.21\n",
      "PS      213.61\n",
      "Name: eu_sales, dtype: float64\n",
      "Top 5 plataformas en JP: platform\n",
      "DS      175.57\n",
      "PS      139.82\n",
      "PS2     139.20\n",
      "SNES    116.55\n",
      "3DS     100.67\n",
      "Name: jp_sales, dtype: float64\n"
     ]
    }
   ],
   "source": [
    "# 1) Las cinco plataformas principales.\n",
    "\n",
    "# Primero agrupamos por plataforma y calcular las ventas por región\n",
    "na_top_platforms = games.groupby('platform')['na_sales'].sum().sort_values(ascending=False).head(5)\n",
    "eu_top_platforms = games.groupby('platform')['eu_sales'].sum().sort_values(ascending=False).head(5)\n",
    "jp_top_platforms = games.groupby('platform')['jp_sales'].sum().sort_values(ascending=False).head(5)\n",
    "\n",
    "# Mostrar los resultados\n",
    "print(\"Top 5 plataformas en NA:\", na_top_platforms)\n",
    "print(\"Top 5 plataformas en EU:\", eu_top_platforms)\n",
    "print(\"Top 5 plataformas en JP:\", jp_top_platforms)"
   ]
  },
  {
   "cell_type": "markdown",
   "metadata": {},
   "source": [
    "**Describe las variaciones en sus cuotas de mercado de una región a otra.**\n",
    "\n",
    "Viendo las 5 plataformas con mayor venta en cada región, puedo concluir que la plataforma \"PS2\" está en el top 3 de las 3 regiones, por lo que puedo concluir que esa es la paltaforma más popular. Por otr lado, tenemos por ejemplo que la \"X360\", \"Wii y \"PS3\" están en el top 5 de la región \"NA\" y \"EU\". El comportamiento es el mismo para el resto de plataformas que aparecen en el top 5 en cada región. Puede que en una región alguna plataforma sea popular pero en otra sea una plataforma completamente distinta."
   ]
  },
  {
   "cell_type": "code",
   "execution_count": 28,
   "metadata": {},
   "outputs": [
    {
     "name": "stdout",
     "output_type": "stream",
     "text": [
      "Top 5 géneros en NA: genre\n",
      "Action      879.01\n",
      "Sports      684.43\n",
      "Shooter     592.24\n",
      "Platform    445.50\n",
      "Misc        407.27\n",
      "Name: na_sales, dtype: float64\n",
      "Top 5 géneros en EU: genre\n",
      "Action     519.13\n",
      "Sports     376.79\n",
      "Shooter    317.34\n",
      "Racing     236.51\n",
      "Misc       212.74\n",
      "Name: eu_sales, dtype: float64\n",
      "Top 5 géneros en JP: genre\n",
      "Role-Playing    355.41\n",
      "Action          161.43\n",
      "Sports          135.54\n",
      "Platform        130.83\n",
      "Misc            108.11\n",
      "Name: jp_sales, dtype: float64\n"
     ]
    }
   ],
   "source": [
    "# 2) Los cinco géneros principales. \n",
    "\n",
    "# Primero agrupamos por género y calculamos las ventas por región\n",
    "na_top_genres = games.groupby('genre')['na_sales'].sum().sort_values(ascending=False).head(5)\n",
    "eu_top_genres = games.groupby('genre')['eu_sales'].sum().sort_values(ascending=False).head(5)\n",
    "jp_top_genres = games.groupby('genre')['jp_sales'].sum().sort_values(ascending=False).head(5)\n",
    "\n",
    "# Mostramos los resultados\n",
    "print(\"Top 5 géneros en NA:\", na_top_genres)\n",
    "print(\"Top 5 géneros en EU:\", eu_top_genres)\n",
    "print(\"Top 5 géneros en JP:\", jp_top_genres)"
   ]
  },
  {
   "cell_type": "markdown",
   "metadata": {},
   "source": [
    "**Explica la diferencia.**\n",
    "\n",
    "Las diferencias en los géneros más populares por región reflejan las preferencias de cada mercado. En la región NA, los géneros de Acción, Deportes y Shooter dominan las ventas. En EU, aunque Acción y Deportes también están en los primeros lugares, el género Racing aparece en la cuarta posición. En JP, los géneros de Role-Playing y Acción lideran las ventas, con una fuerte inclinación hacia los juegos de rol, que son muy populares en el país, mientras que Shooter y Deportes tienen un impacto mucho menor en comparación con las otras regiones."
   ]
  },
  {
   "cell_type": "code",
   "execution_count": 29,
   "metadata": {},
   "outputs": [
    {
     "name": "stdout",
     "output_type": "stream",
     "text": [
      "Ventas por clasificación ESRB en NA: rating\n",
      "E                 1292.99\n",
      "No clasificado    1242.46\n",
      "T                  759.75\n",
      "M                  748.48\n",
      "E10+               353.32\n",
      "K-A                  2.56\n",
      "EC                   1.53\n",
      "AO                   1.26\n",
      "RP                   0.00\n",
      "Name: na_sales, dtype: float64\n",
      "Ventas por clasificación ESRB en EU: rating\n",
      "E                 710.25\n",
      "No clasificado    613.83\n",
      "M                 483.97\n",
      "T                 427.03\n",
      "E10+              188.52\n",
      "AO                  0.61\n",
      "K-A                 0.27\n",
      "EC                  0.11\n",
      "RP                  0.08\n",
      "Name: eu_sales, dtype: float64\n",
      "Ventas por clasificación ESRB en JP: rating\n",
      "No clasificado    841.96\n",
      "E                 198.11\n",
      "T                 151.40\n",
      "M                  64.24\n",
      "E10+               40.20\n",
      "K-A                 1.46\n",
      "AO                  0.00\n",
      "EC                  0.00\n",
      "RP                  0.00\n",
      "Name: jp_sales, dtype: float64\n"
     ]
    }
   ],
   "source": [
    "# 3) Si las clasificaciones de ESRB afectan a las ventas en regiones individuales.\n",
    "\n",
    "# Agrupamos por clasificación ESRB y calcular las ventas totales por región\n",
    "na_esrb_sales = games.groupby('rating')['na_sales'].sum().sort_values(ascending = False)\n",
    "eu_esrb_sales = games.groupby('rating')['eu_sales'].sum().sort_values(ascending = False)\n",
    "jp_esrb_sales = games.groupby('rating')['jp_sales'].sum().sort_values(ascending = False)\n",
    "\n",
    "# Mostramos los resultados\n",
    "print(\"Ventas por clasificación ESRB en NA:\", na_esrb_sales)\n",
    "print(\"Ventas por clasificación ESRB en EU:\", eu_esrb_sales)\n",
    "print(\"Ventas por clasificación ESRB en JP:\", jp_esrb_sales)"
   ]
  },
  {
   "cell_type": "markdown",
   "metadata": {},
   "source": [
    "**Las clasificaciones ESRB tienen un impacto diferente en las ventas según la región. **\n",
    "\n",
    "En NA, la categoría E domina con un margen significativo, seguida de cerca por los juegos de clasificación T. En EU, los juegos E y M lideran. En JP, las clasificaciones tradicionales como E y T son las más predominantes pero en venta menor. Estas diferencias indican que las preferencias de clasificación varían considerablemente entre regiones, con NA y EU mostrando una mayor tendencia hacia las clasificaciones estándar, mientras que JP tiene un enfoque similar pero con menor venta total."
   ]
  },
  {
   "cell_type": "markdown",
   "metadata": {},
   "source": [
    "### Prueba de hipótesis"
   ]
  },
  {
   "cell_type": "markdown",
   "metadata": {},
   "source": [
    "**Las calificaciones promedio de los usuarios para las plataformas Xbox One y PC son las mismas.**"
   ]
  },
  {
   "cell_type": "markdown",
   "metadata": {},
   "source": [
    "Hipótesis Nula (H0): No hay diferencia significativa en las calificaciones promedio de los usuarios entre Xbox One y PC. Matemáticamente:\n",
    "\n",
    "H \n",
    "0\n",
    "​\n",
    " :μ \n",
    "Xbox One\n",
    "​\n",
    " =μ \n",
    "PC\n",
    "​\n",
    " \n",
    "Hipótesis Alternativa (H1): Existe una diferencia significativa en las calificaciones promedio de los usuarios entre Xbox One y PC. Matemáticamente:\n",
    "\n",
    "H \n",
    "1\n",
    "​\n",
    " :μ \n",
    "Xbox One\n",
    "​\n",
    " \n",
    "\n",
    "=μ \n",
    "PC\n",
    "​\n"
   ]
  },
  {
   "cell_type": "code",
   "execution_count": 30,
   "metadata": {},
   "outputs": [
    {
     "data": {
      "text/html": [
       "<div>\n",
       "<style scoped>\n",
       "    .dataframe tbody tr th:only-of-type {\n",
       "        vertical-align: middle;\n",
       "    }\n",
       "\n",
       "    .dataframe tbody tr th {\n",
       "        vertical-align: top;\n",
       "    }\n",
       "\n",
       "    .dataframe thead th {\n",
       "        text-align: right;\n",
       "    }\n",
       "</style>\n",
       "<table border=\"1\" class=\"dataframe\">\n",
       "  <thead>\n",
       "    <tr style=\"text-align: right;\">\n",
       "      <th></th>\n",
       "      <th>name</th>\n",
       "      <th>platform</th>\n",
       "      <th>year_of_release</th>\n",
       "      <th>genre</th>\n",
       "      <th>na_sales</th>\n",
       "      <th>eu_sales</th>\n",
       "      <th>jp_sales</th>\n",
       "      <th>other_sales</th>\n",
       "      <th>critic_score</th>\n",
       "      <th>user_score</th>\n",
       "      <th>rating</th>\n",
       "      <th>total_sales</th>\n",
       "    </tr>\n",
       "  </thead>\n",
       "  <tbody>\n",
       "    <tr>\n",
       "      <th>0</th>\n",
       "      <td>Wii Sports</td>\n",
       "      <td>Wii</td>\n",
       "      <td>2006</td>\n",
       "      <td>Sports</td>\n",
       "      <td>41.36</td>\n",
       "      <td>28.96</td>\n",
       "      <td>3.77</td>\n",
       "      <td>8.45</td>\n",
       "      <td>76.0</td>\n",
       "      <td>8.0</td>\n",
       "      <td>E</td>\n",
       "      <td>82.54</td>\n",
       "    </tr>\n",
       "    <tr>\n",
       "      <th>1</th>\n",
       "      <td>Super Mario Bros.</td>\n",
       "      <td>NES</td>\n",
       "      <td>1985</td>\n",
       "      <td>Platform</td>\n",
       "      <td>29.08</td>\n",
       "      <td>3.58</td>\n",
       "      <td>6.81</td>\n",
       "      <td>0.77</td>\n",
       "      <td>71.0</td>\n",
       "      <td>7.5</td>\n",
       "      <td>No clasificado</td>\n",
       "      <td>40.24</td>\n",
       "    </tr>\n",
       "    <tr>\n",
       "      <th>2</th>\n",
       "      <td>Mario Kart Wii</td>\n",
       "      <td>Wii</td>\n",
       "      <td>2008</td>\n",
       "      <td>Racing</td>\n",
       "      <td>15.68</td>\n",
       "      <td>12.76</td>\n",
       "      <td>3.79</td>\n",
       "      <td>3.29</td>\n",
       "      <td>82.0</td>\n",
       "      <td>8.3</td>\n",
       "      <td>E</td>\n",
       "      <td>35.52</td>\n",
       "    </tr>\n",
       "    <tr>\n",
       "      <th>3</th>\n",
       "      <td>Wii Sports Resort</td>\n",
       "      <td>Wii</td>\n",
       "      <td>2009</td>\n",
       "      <td>Sports</td>\n",
       "      <td>15.61</td>\n",
       "      <td>10.93</td>\n",
       "      <td>3.28</td>\n",
       "      <td>2.95</td>\n",
       "      <td>80.0</td>\n",
       "      <td>8.0</td>\n",
       "      <td>E</td>\n",
       "      <td>32.77</td>\n",
       "    </tr>\n",
       "    <tr>\n",
       "      <th>4</th>\n",
       "      <td>Pokemon Red/Pokemon Blue</td>\n",
       "      <td>GB</td>\n",
       "      <td>1996</td>\n",
       "      <td>Role-Playing</td>\n",
       "      <td>11.27</td>\n",
       "      <td>8.89</td>\n",
       "      <td>10.22</td>\n",
       "      <td>1.00</td>\n",
       "      <td>71.0</td>\n",
       "      <td>7.5</td>\n",
       "      <td>No clasificado</td>\n",
       "      <td>31.38</td>\n",
       "    </tr>\n",
       "    <tr>\n",
       "      <th>...</th>\n",
       "      <td>...</td>\n",
       "      <td>...</td>\n",
       "      <td>...</td>\n",
       "      <td>...</td>\n",
       "      <td>...</td>\n",
       "      <td>...</td>\n",
       "      <td>...</td>\n",
       "      <td>...</td>\n",
       "      <td>...</td>\n",
       "      <td>...</td>\n",
       "      <td>...</td>\n",
       "      <td>...</td>\n",
       "    </tr>\n",
       "    <tr>\n",
       "      <th>195</th>\n",
       "      <td>Microsoft Flight Simulator</td>\n",
       "      <td>PC</td>\n",
       "      <td>1996</td>\n",
       "      <td>Simulation</td>\n",
       "      <td>3.22</td>\n",
       "      <td>1.69</td>\n",
       "      <td>0.00</td>\n",
       "      <td>0.20</td>\n",
       "      <td>71.0</td>\n",
       "      <td>7.5</td>\n",
       "      <td>No clasificado</td>\n",
       "      <td>5.11</td>\n",
       "    </tr>\n",
       "    <tr>\n",
       "      <th>196</th>\n",
       "      <td>Guitar Hero II</td>\n",
       "      <td>PS2</td>\n",
       "      <td>2006</td>\n",
       "      <td>Misc</td>\n",
       "      <td>3.81</td>\n",
       "      <td>0.63</td>\n",
       "      <td>0.00</td>\n",
       "      <td>0.68</td>\n",
       "      <td>92.0</td>\n",
       "      <td>8.5</td>\n",
       "      <td>T</td>\n",
       "      <td>5.12</td>\n",
       "    </tr>\n",
       "    <tr>\n",
       "      <th>197</th>\n",
       "      <td>Fable III</td>\n",
       "      <td>X360</td>\n",
       "      <td>2010</td>\n",
       "      <td>Role-Playing</td>\n",
       "      <td>3.59</td>\n",
       "      <td>1.08</td>\n",
       "      <td>0.05</td>\n",
       "      <td>0.38</td>\n",
       "      <td>80.0</td>\n",
       "      <td>6.5</td>\n",
       "      <td>M</td>\n",
       "      <td>5.10</td>\n",
       "    </tr>\n",
       "    <tr>\n",
       "      <th>198</th>\n",
       "      <td>Mario &amp; Sonic at the Olympic Games</td>\n",
       "      <td>DS</td>\n",
       "      <td>2008</td>\n",
       "      <td>Sports</td>\n",
       "      <td>1.63</td>\n",
       "      <td>2.45</td>\n",
       "      <td>0.44</td>\n",
       "      <td>0.57</td>\n",
       "      <td>71.0</td>\n",
       "      <td>7.5</td>\n",
       "      <td>No clasificado</td>\n",
       "      <td>5.09</td>\n",
       "    </tr>\n",
       "    <tr>\n",
       "      <th>199</th>\n",
       "      <td>Resident Evil 5</td>\n",
       "      <td>PS3</td>\n",
       "      <td>2009</td>\n",
       "      <td>Action</td>\n",
       "      <td>1.96</td>\n",
       "      <td>1.41</td>\n",
       "      <td>1.08</td>\n",
       "      <td>0.64</td>\n",
       "      <td>84.0</td>\n",
       "      <td>7.5</td>\n",
       "      <td>M</td>\n",
       "      <td>5.09</td>\n",
       "    </tr>\n",
       "  </tbody>\n",
       "</table>\n",
       "<p>200 rows × 12 columns</p>\n",
       "</div>"
      ],
      "text/plain": [
       "                                   name platform  year_of_release  \\\n",
       "0                            Wii Sports      Wii             2006   \n",
       "1                     Super Mario Bros.      NES             1985   \n",
       "2                        Mario Kart Wii      Wii             2008   \n",
       "3                     Wii Sports Resort      Wii             2009   \n",
       "4              Pokemon Red/Pokemon Blue       GB             1996   \n",
       "..                                  ...      ...              ...   \n",
       "195          Microsoft Flight Simulator       PC             1996   \n",
       "196                      Guitar Hero II      PS2             2006   \n",
       "197                           Fable III     X360             2010   \n",
       "198  Mario & Sonic at the Olympic Games       DS             2008   \n",
       "199                     Resident Evil 5      PS3             2009   \n",
       "\n",
       "            genre  na_sales  eu_sales  jp_sales  other_sales  critic_score  \\\n",
       "0          Sports     41.36     28.96      3.77         8.45          76.0   \n",
       "1        Platform     29.08      3.58      6.81         0.77          71.0   \n",
       "2          Racing     15.68     12.76      3.79         3.29          82.0   \n",
       "3          Sports     15.61     10.93      3.28         2.95          80.0   \n",
       "4    Role-Playing     11.27      8.89     10.22         1.00          71.0   \n",
       "..            ...       ...       ...       ...          ...           ...   \n",
       "195    Simulation      3.22      1.69      0.00         0.20          71.0   \n",
       "196          Misc      3.81      0.63      0.00         0.68          92.0   \n",
       "197  Role-Playing      3.59      1.08      0.05         0.38          80.0   \n",
       "198        Sports      1.63      2.45      0.44         0.57          71.0   \n",
       "199        Action      1.96      1.41      1.08         0.64          84.0   \n",
       "\n",
       "     user_score          rating  total_sales  \n",
       "0           8.0               E        82.54  \n",
       "1           7.5  No clasificado        40.24  \n",
       "2           8.3               E        35.52  \n",
       "3           8.0               E        32.77  \n",
       "4           7.5  No clasificado        31.38  \n",
       "..          ...             ...          ...  \n",
       "195         7.5  No clasificado         5.11  \n",
       "196         8.5               T         5.12  \n",
       "197         6.5               M         5.10  \n",
       "198         7.5  No clasificado         5.09  \n",
       "199         7.5               M         5.09  \n",
       "\n",
       "[200 rows x 12 columns]"
      ]
     },
     "execution_count": 30,
     "metadata": {},
     "output_type": "execute_result"
    }
   ],
   "source": [
    "games.head(200)"
   ]
  },
  {
   "cell_type": "code",
   "execution_count": 31,
   "metadata": {},
   "outputs": [
    {
     "name": "stdout",
     "output_type": "stream",
     "text": [
      "valor p: 4.964162612622159e-05\n",
      "Rechazamos la hipótesis nula\n"
     ]
    }
   ],
   "source": [
    "# Filtramos las calificaciones de usuarios para Xbox One y PC\n",
    "xbox_one_scores = games[games['platform'] == 'XOne']['user_score'].dropna()\n",
    "pc_scores = games[games['platform'] == 'PC']['user_score'].dropna()\n",
    "\n",
    "# Definimos el valor de umbral alfa\n",
    "alpha = 0.05\n",
    "\n",
    "# Realizamos la prueba t de dos muestras\n",
    "results = stats.ttest_ind(xbox_one_scores, pc_scores, equal_var=False)  # `equal_var=False` asume varianzas diferentes\n",
    "\n",
    "# Resultados\n",
    "print('valor p:', results.pvalue)\n",
    "\n",
    "# Verificación de la hipótesis\n",
    "if results.pvalue < alpha: \n",
    "    print(\"Rechazamos la hipótesis nula\")\n",
    "else:\n",
    "    print(\"No podemos rechazar la hipótesis nula\")"
   ]
  },
  {
   "cell_type": "markdown",
   "metadata": {},
   "source": [
    "**Las calificaciones promedio de los usuarios para los géneros de Acción y Deportes son diferentes.**"
   ]
  },
  {
   "cell_type": "markdown",
   "metadata": {},
   "source": [
    "Hipótesis nula (H₀): Las calificaciones promedio de los usuarios para los géneros de Acción y Deportes son iguales. \n",
    "\n",
    "H0 :μ Acción=μ Deportes\n",
    " \n",
    "Hipótesis alternativa (H₁): Las calificaciones promedio de los usuarios para los géneros de Acción y Deportes son diferentes. \n",
    "\n",
    "H1:μ Acción=μ Deportes\n"
   ]
  },
  {
   "cell_type": "code",
   "execution_count": 32,
   "metadata": {},
   "outputs": [
    {
     "name": "stdout",
     "output_type": "stream",
     "text": [
      "Prueba de Levene - valor p: 0.6828105166182066\n",
      "No podemos rechazar la hipótesis nula: Las varianzas son iguales.\n",
      "Prueba t - valor p: 0.7131417795320426\n",
      "No podemos rechazar la hipótesis nula: No hay diferencia significativa en las calificaciones promedio entre los géneros de Acción y Deportes.\n"
     ]
    }
   ],
   "source": [
    "# Filtramos las calificaciones de usuarios para los géneros Acción y Deportes\n",
    "accion_scores = games[games['genre'] == 'Action']['user_score'].dropna()\n",
    "deportes_scores = games[games['genre'] == 'Sports']['user_score'].dropna()\n",
    "\n",
    "# Definimos el nivel de significancia\n",
    "alpha = 0.05\n",
    "\n",
    "# Prueba de Levene para evaluar la igualdad de varianzas\n",
    "levene_test = stats.levene(accion_scores, deportes_scores)\n",
    "print('Prueba de Levene - valor p:', levene_test.pvalue)\n",
    "\n",
    "# Verificación de la hipótesis nula de Levene\n",
    "if levene_test.pvalue < alpha:\n",
    "    print(\"Rechazamos la hipótesis nula: Las varianzas no son iguales.\")\n",
    "    equal_var = False\n",
    "else:\n",
    "    print(\"No podemos rechazar la hipótesis nula: Las varianzas son iguales.\")\n",
    "    equal_var = True\n",
    "\n",
    "# Realizamos la prueba t de dos muestras considerando el resultado de Levene\n",
    "results = stats.ttest_ind(accion_scores, deportes_scores, equal_var=equal_var)\n",
    "\n",
    "# Resultados\n",
    "print('Prueba t - valor p:', results.pvalue)\n",
    "\n",
    "# Verificación de la hipótesis nula\n",
    "if results.pvalue < alpha:\n",
    "    print(\"Rechazamos la hipótesis nula: Existe una diferencia significativa en las calificaciones promedio entre los géneros de Acción y Deportes.\")\n",
    "else:\n",
    "    print(\"No podemos rechazar la hipótesis nula: No hay diferencia significativa en las calificaciones promedio entre los géneros de Acción y Deportes.\")"
   ]
  },
  {
   "cell_type": "markdown",
   "metadata": {},
   "source": [
    "**¿Qué criterio utilizaste para probar las hipótesis y por qué?**\n",
    "\n",
    "El criterio utilizado para probar las hipótesis fue la prueba t de dos muestras independientes. \n",
    "\n",
    "Este criterio se elige porque estamos comparando las medias de dos grupos independientes para evaluar si existe una diferencia significativa en sus calificaciones promedio"
   ]
  },
  {
   "cell_type": "markdown",
   "metadata": {},
   "source": [
    "### Conclusión General"
   ]
  },
  {
   "cell_type": "markdown",
   "metadata": {},
   "source": [
    "En general, el análisis de datos de la tienda online Ice que vende videojuegos ha revelado patrones significativos sobre los factores que influyen en el éxito de los juegos en diferentes regiones. Los géneros de mayor rentabilidad, como Acción y Deportes, suelen tener una audiencia amplia y diversa, mientras que otros géneros más especializados, como Estrategia y Simulación, tienen un público más reducido y leal. Al estudiar la popularidad de las plataformas, observamos que las ventas pueden variar significativamente entre regiones, lo que indica la necesidad de enfoques de mercado específicos. Además, el análisis de las calificaciones de los usuarios y críticos muestra que, aunque las reseñas influyen en las ventas, el impacto varía según el mercado y no siempre es determinante para el éxito en todos los casos.\n",
    "\n",
    "A través de las pruebas de hipótesis, confirmamos diferencias en las preferencias y calificaciones entre géneros y plataformas, lo que subraya la importancia de adaptar la oferta a los gustos del consumidor en cada segmento. Finalmente, la clasificación ESRB también mostró que los juegos con clasificación “E” y sin clasificar dominan las ventas en todas las regiones, especialmente en América del Norte y Japón, lo cual sugiere una preferencia por títulos aptos para un público amplio. En conjunto, estos hallazgos proporcionan una comprensión integral de las tendencias del mercado de videojuegos, ayudando a tomar decisiones estratégicas más informadas para maximizar la rentabilidad en diversas regiones y demografías."
   ]
  }
 ],
 "metadata": {
  "ExecuteTimeLog": [
   {
    "duration": 3,
    "start_time": "2024-11-11T23:17:46.801Z"
   },
   {
    "duration": 2156,
    "start_time": "2024-11-11T23:20:14.694Z"
   },
   {
    "duration": 429,
    "start_time": "2024-11-11T23:21:06.877Z"
   },
   {
    "duration": 28,
    "start_time": "2024-11-11T23:21:21.540Z"
   },
   {
    "duration": 27,
    "start_time": "2024-11-11T23:22:34.929Z"
   },
   {
    "duration": 18,
    "start_time": "2024-11-11T23:23:03.392Z"
   },
   {
    "duration": 14,
    "start_time": "2024-11-11T23:23:12.701Z"
   },
   {
    "duration": 14,
    "start_time": "2024-11-11T23:23:19.938Z"
   },
   {
    "duration": 15,
    "start_time": "2024-11-11T23:23:23.651Z"
   },
   {
    "duration": 25,
    "start_time": "2024-11-11T23:24:02.225Z"
   },
   {
    "duration": 24,
    "start_time": "2024-11-11T23:24:36.076Z"
   },
   {
    "duration": 25,
    "start_time": "2024-11-11T23:24:47.327Z"
   },
   {
    "duration": 24,
    "start_time": "2024-11-11T23:24:51.887Z"
   },
   {
    "duration": 27,
    "start_time": "2024-11-11T23:25:22.950Z"
   },
   {
    "duration": 4,
    "start_time": "2024-11-11T23:33:52.764Z"
   },
   {
    "duration": 3,
    "start_time": "2024-11-11T23:34:31.538Z"
   },
   {
    "duration": 2,
    "start_time": "2024-11-11T23:34:32.108Z"
   },
   {
    "duration": 13,
    "start_time": "2024-11-11T23:37:13.514Z"
   },
   {
    "duration": 3,
    "start_time": "2024-11-11T23:37:18.956Z"
   },
   {
    "duration": 193,
    "start_time": "2024-11-12T00:32:04.155Z"
   },
   {
    "duration": 3343,
    "start_time": "2024-11-12T00:33:45.457Z"
   },
   {
    "duration": 62,
    "start_time": "2024-11-12T00:33:48.802Z"
   },
   {
    "duration": 33,
    "start_time": "2024-11-12T00:33:48.867Z"
   },
   {
    "duration": 4,
    "start_time": "2024-11-12T00:33:48.902Z"
   },
   {
    "duration": 3,
    "start_time": "2024-11-12T00:33:48.909Z"
   },
   {
    "duration": 10,
    "start_time": "2024-11-12T00:33:48.915Z"
   },
   {
    "duration": 3,
    "start_time": "2024-11-12T00:33:48.927Z"
   },
   {
    "duration": 1141,
    "start_time": "2024-11-12T00:33:48.931Z"
   },
   {
    "duration": 1,
    "start_time": "2024-11-12T00:33:50.074Z"
   },
   {
    "duration": 0,
    "start_time": "2024-11-12T00:33:50.076Z"
   },
   {
    "duration": 0,
    "start_time": "2024-11-12T00:33:50.077Z"
   },
   {
    "duration": 0,
    "start_time": "2024-11-12T00:33:50.078Z"
   },
   {
    "duration": 0,
    "start_time": "2024-11-12T00:33:50.080Z"
   },
   {
    "duration": 0,
    "start_time": "2024-11-12T00:33:50.081Z"
   },
   {
    "duration": 0,
    "start_time": "2024-11-12T00:33:50.082Z"
   },
   {
    "duration": 0,
    "start_time": "2024-11-12T00:33:50.084Z"
   },
   {
    "duration": 0,
    "start_time": "2024-11-12T00:33:50.085Z"
   },
   {
    "duration": 0,
    "start_time": "2024-11-12T00:33:50.087Z"
   },
   {
    "duration": 0,
    "start_time": "2024-11-12T00:33:50.088Z"
   },
   {
    "duration": 1,
    "start_time": "2024-11-12T00:33:50.089Z"
   },
   {
    "duration": 0,
    "start_time": "2024-11-12T00:33:50.091Z"
   },
   {
    "duration": 0,
    "start_time": "2024-11-12T00:33:50.092Z"
   },
   {
    "duration": 0,
    "start_time": "2024-11-12T00:33:50.093Z"
   },
   {
    "duration": 87,
    "start_time": "2024-11-12T00:34:50.181Z"
   },
   {
    "duration": 32,
    "start_time": "2024-11-12T00:36:22.620Z"
   },
   {
    "duration": 33,
    "start_time": "2024-11-12T00:36:26.323Z"
   },
   {
    "duration": 21,
    "start_time": "2024-11-12T00:36:31.362Z"
   },
   {
    "duration": 99,
    "start_time": "2024-11-12T00:36:59.941Z"
   },
   {
    "duration": 23,
    "start_time": "2024-11-12T00:37:22.296Z"
   },
   {
    "duration": 450,
    "start_time": "2024-11-12T00:37:38.607Z"
   },
   {
    "duration": 79,
    "start_time": "2024-11-12T00:37:39.060Z"
   },
   {
    "duration": 28,
    "start_time": "2024-11-12T00:37:39.142Z"
   },
   {
    "duration": 3,
    "start_time": "2024-11-12T00:37:39.172Z"
   },
   {
    "duration": 3,
    "start_time": "2024-11-12T00:37:39.180Z"
   },
   {
    "duration": 4,
    "start_time": "2024-11-12T00:37:39.185Z"
   },
   {
    "duration": 3,
    "start_time": "2024-11-12T00:37:39.192Z"
   },
   {
    "duration": 38,
    "start_time": "2024-11-12T00:37:39.197Z"
   },
   {
    "duration": 4,
    "start_time": "2024-11-12T00:37:39.237Z"
   },
   {
    "duration": 3,
    "start_time": "2024-11-12T00:37:39.243Z"
   },
   {
    "duration": 2,
    "start_time": "2024-11-12T00:37:39.248Z"
   },
   {
    "duration": 2,
    "start_time": "2024-11-12T00:37:39.253Z"
   },
   {
    "duration": 3,
    "start_time": "2024-11-12T00:37:39.257Z"
   },
   {
    "duration": 2,
    "start_time": "2024-11-12T00:37:39.265Z"
   },
   {
    "duration": 3,
    "start_time": "2024-11-12T00:37:39.269Z"
   },
   {
    "duration": 2,
    "start_time": "2024-11-12T00:37:39.275Z"
   },
   {
    "duration": 46,
    "start_time": "2024-11-12T00:37:39.279Z"
   },
   {
    "duration": 2,
    "start_time": "2024-11-12T00:37:39.328Z"
   },
   {
    "duration": 3,
    "start_time": "2024-11-12T00:37:39.332Z"
   },
   {
    "duration": 3,
    "start_time": "2024-11-12T00:37:39.337Z"
   },
   {
    "duration": 2,
    "start_time": "2024-11-12T00:37:39.342Z"
   },
   {
    "duration": 3,
    "start_time": "2024-11-12T00:37:39.346Z"
   },
   {
    "duration": 2,
    "start_time": "2024-11-12T00:37:39.351Z"
   },
   {
    "duration": 3,
    "start_time": "2024-11-12T00:37:39.355Z"
   },
   {
    "duration": 18,
    "start_time": "2024-11-12T00:39:09.225Z"
   },
   {
    "duration": 4,
    "start_time": "2024-11-12T00:39:09.767Z"
   },
   {
    "duration": 22,
    "start_time": "2024-11-12T00:40:17.574Z"
   },
   {
    "duration": 4,
    "start_time": "2024-11-12T00:40:18.204Z"
   },
   {
    "duration": 425,
    "start_time": "2024-11-12T00:40:42.496Z"
   },
   {
    "duration": 69,
    "start_time": "2024-11-12T00:40:42.925Z"
   },
   {
    "duration": 42,
    "start_time": "2024-11-12T00:40:42.996Z"
   },
   {
    "duration": 4,
    "start_time": "2024-11-12T00:40:43.040Z"
   },
   {
    "duration": 3,
    "start_time": "2024-11-12T00:40:43.047Z"
   },
   {
    "duration": 4,
    "start_time": "2024-11-12T00:40:43.052Z"
   },
   {
    "duration": 3,
    "start_time": "2024-11-12T00:40:43.058Z"
   },
   {
    "duration": 14,
    "start_time": "2024-11-12T00:40:43.063Z"
   },
   {
    "duration": 5,
    "start_time": "2024-11-12T00:40:43.080Z"
   },
   {
    "duration": 37,
    "start_time": "2024-11-12T00:40:43.087Z"
   },
   {
    "duration": 3,
    "start_time": "2024-11-12T00:40:43.126Z"
   },
   {
    "duration": 3,
    "start_time": "2024-11-12T00:40:43.131Z"
   },
   {
    "duration": 2,
    "start_time": "2024-11-12T00:40:43.136Z"
   },
   {
    "duration": 3,
    "start_time": "2024-11-12T00:40:43.142Z"
   },
   {
    "duration": 3,
    "start_time": "2024-11-12T00:40:43.146Z"
   },
   {
    "duration": 5,
    "start_time": "2024-11-12T00:40:43.159Z"
   },
   {
    "duration": 7,
    "start_time": "2024-11-12T00:40:43.167Z"
   },
   {
    "duration": 3,
    "start_time": "2024-11-12T00:40:43.176Z"
   },
   {
    "duration": 3,
    "start_time": "2024-11-12T00:40:43.180Z"
   },
   {
    "duration": 3,
    "start_time": "2024-11-12T00:40:43.184Z"
   },
   {
    "duration": 37,
    "start_time": "2024-11-12T00:40:43.189Z"
   },
   {
    "duration": 2,
    "start_time": "2024-11-12T00:40:43.228Z"
   },
   {
    "duration": 3,
    "start_time": "2024-11-12T00:40:43.232Z"
   },
   {
    "duration": 2,
    "start_time": "2024-11-12T00:40:43.237Z"
   },
   {
    "duration": 843,
    "start_time": "2024-11-12T00:42:21.136Z"
   },
   {
    "duration": 61,
    "start_time": "2024-11-12T00:42:39.369Z"
   },
   {
    "duration": 103,
    "start_time": "2024-11-12T00:42:55.038Z"
   },
   {
    "duration": 22,
    "start_time": "2024-11-12T00:43:51.003Z"
   },
   {
    "duration": 4,
    "start_time": "2024-11-12T00:43:52.854Z"
   },
   {
    "duration": 22,
    "start_time": "2024-11-12T00:45:05.795Z"
   },
   {
    "duration": 11,
    "start_time": "2024-11-12T00:47:13.271Z"
   },
   {
    "duration": 4,
    "start_time": "2024-11-12T00:47:18.569Z"
   },
   {
    "duration": 442,
    "start_time": "2024-11-12T00:47:58.022Z"
   },
   {
    "duration": 65,
    "start_time": "2024-11-12T00:47:58.466Z"
   },
   {
    "duration": 26,
    "start_time": "2024-11-12T00:47:58.533Z"
   },
   {
    "duration": 3,
    "start_time": "2024-11-12T00:47:58.561Z"
   },
   {
    "duration": 3,
    "start_time": "2024-11-12T00:47:58.565Z"
   },
   {
    "duration": 4,
    "start_time": "2024-11-12T00:47:58.570Z"
   },
   {
    "duration": 4,
    "start_time": "2024-11-12T00:47:58.576Z"
   },
   {
    "duration": 48,
    "start_time": "2024-11-12T00:47:58.581Z"
   },
   {
    "duration": 4,
    "start_time": "2024-11-12T00:47:58.630Z"
   },
   {
    "duration": 12,
    "start_time": "2024-11-12T00:47:58.637Z"
   },
   {
    "duration": 3,
    "start_time": "2024-11-12T00:47:58.650Z"
   },
   {
    "duration": 2,
    "start_time": "2024-11-12T00:47:58.655Z"
   },
   {
    "duration": 4,
    "start_time": "2024-11-12T00:47:58.659Z"
   },
   {
    "duration": 3,
    "start_time": "2024-11-12T00:47:58.665Z"
   },
   {
    "duration": 3,
    "start_time": "2024-11-12T00:47:58.669Z"
   },
   {
    "duration": 3,
    "start_time": "2024-11-12T00:47:58.673Z"
   },
   {
    "duration": 4,
    "start_time": "2024-11-12T00:47:58.677Z"
   },
   {
    "duration": 42,
    "start_time": "2024-11-12T00:47:58.682Z"
   },
   {
    "duration": 3,
    "start_time": "2024-11-12T00:47:58.726Z"
   },
   {
    "duration": 3,
    "start_time": "2024-11-12T00:47:58.730Z"
   },
   {
    "duration": 3,
    "start_time": "2024-11-12T00:47:58.734Z"
   },
   {
    "duration": 3,
    "start_time": "2024-11-12T00:47:58.739Z"
   },
   {
    "duration": 4,
    "start_time": "2024-11-12T00:47:58.743Z"
   },
   {
    "duration": 3,
    "start_time": "2024-11-12T00:47:58.748Z"
   },
   {
    "duration": 3,
    "start_time": "2024-11-12T00:47:58.752Z"
   },
   {
    "duration": 2,
    "start_time": "2024-11-12T00:47:58.757Z"
   },
   {
    "duration": 736,
    "start_time": "2024-11-12T00:49:03.574Z"
   },
   {
    "duration": 22,
    "start_time": "2024-11-12T00:49:19.263Z"
   },
   {
    "duration": 3,
    "start_time": "2024-11-12T00:50:08.164Z"
   },
   {
    "duration": 3134,
    "start_time": "2024-11-12T00:50:39.320Z"
   },
   {
    "duration": 440,
    "start_time": "2024-11-12T00:50:58.840Z"
   },
   {
    "duration": 66,
    "start_time": "2024-11-12T00:50:59.283Z"
   },
   {
    "duration": 30,
    "start_time": "2024-11-12T00:50:59.351Z"
   },
   {
    "duration": 3,
    "start_time": "2024-11-12T00:50:59.383Z"
   },
   {
    "duration": 2,
    "start_time": "2024-11-12T00:50:59.390Z"
   },
   {
    "duration": 4,
    "start_time": "2024-11-12T00:50:59.394Z"
   },
   {
    "duration": 2,
    "start_time": "2024-11-12T00:50:59.424Z"
   },
   {
    "duration": 13,
    "start_time": "2024-11-12T00:50:59.427Z"
   },
   {
    "duration": 3,
    "start_time": "2024-11-12T00:50:59.441Z"
   },
   {
    "duration": 3,
    "start_time": "2024-11-12T00:50:59.446Z"
   },
   {
    "duration": 2663,
    "start_time": "2024-11-12T00:50:59.450Z"
   },
   {
    "duration": 3,
    "start_time": "2024-11-12T00:51:02.116Z"
   },
   {
    "duration": 3,
    "start_time": "2024-11-12T00:51:02.121Z"
   },
   {
    "duration": 4,
    "start_time": "2024-11-12T00:51:02.128Z"
   },
   {
    "duration": 3,
    "start_time": "2024-11-12T00:51:02.135Z"
   },
   {
    "duration": 2,
    "start_time": "2024-11-12T00:51:02.140Z"
   },
   {
    "duration": 3,
    "start_time": "2024-11-12T00:51:02.144Z"
   },
   {
    "duration": 2,
    "start_time": "2024-11-12T00:51:02.149Z"
   },
   {
    "duration": 3,
    "start_time": "2024-11-12T00:51:02.153Z"
   },
   {
    "duration": 2,
    "start_time": "2024-11-12T00:51:02.158Z"
   },
   {
    "duration": 4,
    "start_time": "2024-11-12T00:51:02.162Z"
   },
   {
    "duration": 2,
    "start_time": "2024-11-12T00:51:02.168Z"
   },
   {
    "duration": 2,
    "start_time": "2024-11-12T00:51:02.172Z"
   },
   {
    "duration": 3,
    "start_time": "2024-11-12T00:51:02.176Z"
   },
   {
    "duration": 4,
    "start_time": "2024-11-12T00:51:02.224Z"
   },
   {
    "duration": 2,
    "start_time": "2024-11-12T00:51:02.230Z"
   },
   {
    "duration": 10,
    "start_time": "2024-11-12T00:53:09.406Z"
   },
   {
    "duration": 17,
    "start_time": "2024-11-12T00:54:27.615Z"
   },
   {
    "duration": 13,
    "start_time": "2024-11-12T00:54:42.227Z"
   },
   {
    "duration": 4,
    "start_time": "2024-11-12T00:54:47.871Z"
   },
   {
    "duration": 10,
    "start_time": "2024-11-12T00:56:54.326Z"
   },
   {
    "duration": 11,
    "start_time": "2024-11-12T00:57:19.251Z"
   },
   {
    "duration": 8,
    "start_time": "2024-11-12T00:57:25.726Z"
   },
   {
    "duration": 9,
    "start_time": "2024-11-12T01:01:54.749Z"
   },
   {
    "duration": 4,
    "start_time": "2024-11-12T01:02:49.295Z"
   },
   {
    "duration": 96,
    "start_time": "2024-11-12T01:02:58.297Z"
   },
   {
    "duration": 10,
    "start_time": "2024-11-12T01:03:02.279Z"
   },
   {
    "duration": 4,
    "start_time": "2024-11-12T01:03:12.293Z"
   },
   {
    "duration": 11,
    "start_time": "2024-11-12T01:03:23.879Z"
   },
   {
    "duration": 4,
    "start_time": "2024-11-12T01:03:24.606Z"
   },
   {
    "duration": 4,
    "start_time": "2024-11-12T01:03:25.314Z"
   },
   {
    "duration": 457,
    "start_time": "2024-11-12T01:04:10.974Z"
   },
   {
    "duration": 63,
    "start_time": "2024-11-12T01:04:11.433Z"
   },
   {
    "duration": 41,
    "start_time": "2024-11-12T01:04:11.499Z"
   },
   {
    "duration": 3,
    "start_time": "2024-11-12T01:04:11.542Z"
   },
   {
    "duration": 3,
    "start_time": "2024-11-12T01:04:11.548Z"
   },
   {
    "duration": 5,
    "start_time": "2024-11-12T01:04:11.553Z"
   },
   {
    "duration": 4,
    "start_time": "2024-11-12T01:04:11.560Z"
   },
   {
    "duration": 3,
    "start_time": "2024-11-12T01:04:11.565Z"
   },
   {
    "duration": 3,
    "start_time": "2024-11-12T01:04:11.569Z"
   },
   {
    "duration": 2,
    "start_time": "2024-11-12T01:04:11.574Z"
   },
   {
    "duration": 4,
    "start_time": "2024-11-12T01:04:11.578Z"
   },
   {
    "duration": 3,
    "start_time": "2024-11-12T01:04:11.583Z"
   },
   {
    "duration": 37,
    "start_time": "2024-11-12T01:04:11.587Z"
   },
   {
    "duration": 3,
    "start_time": "2024-11-12T01:04:11.628Z"
   },
   {
    "duration": 2,
    "start_time": "2024-11-12T01:04:11.633Z"
   },
   {
    "duration": 2,
    "start_time": "2024-11-12T01:04:11.638Z"
   },
   {
    "duration": 2,
    "start_time": "2024-11-12T01:04:11.642Z"
   },
   {
    "duration": 3,
    "start_time": "2024-11-12T01:04:11.646Z"
   },
   {
    "duration": 4,
    "start_time": "2024-11-12T01:04:11.650Z"
   },
   {
    "duration": 3,
    "start_time": "2024-11-12T01:04:11.655Z"
   },
   {
    "duration": 3,
    "start_time": "2024-11-12T01:04:11.659Z"
   },
   {
    "duration": 3,
    "start_time": "2024-11-12T01:04:11.663Z"
   },
   {
    "duration": 6,
    "start_time": "2024-11-12T01:05:31.066Z"
   },
   {
    "duration": 3,
    "start_time": "2024-11-12T01:05:43.044Z"
   },
   {
    "duration": 725,
    "start_time": "2024-11-12T01:07:15.129Z"
   },
   {
    "duration": 4,
    "start_time": "2024-11-12T01:07:16.189Z"
   },
   {
    "duration": 5,
    "start_time": "2024-11-12T01:07:40.142Z"
   },
   {
    "duration": 4,
    "start_time": "2024-11-12T01:07:42.361Z"
   },
   {
    "duration": 4,
    "start_time": "2024-11-12T01:08:39.471Z"
   },
   {
    "duration": 4,
    "start_time": "2024-11-12T01:08:40.036Z"
   },
   {
    "duration": 14,
    "start_time": "2024-11-12T01:10:14.511Z"
   },
   {
    "duration": 11,
    "start_time": "2024-11-12T01:10:38.437Z"
   },
   {
    "duration": 15,
    "start_time": "2024-11-12T01:10:48.786Z"
   },
   {
    "duration": 4,
    "start_time": "2024-11-12T01:11:09.145Z"
   },
   {
    "duration": 9,
    "start_time": "2024-11-12T01:11:40.348Z"
   },
   {
    "duration": 3,
    "start_time": "2024-11-12T01:11:40.833Z"
   },
   {
    "duration": 8,
    "start_time": "2024-11-12T01:18:43.520Z"
   },
   {
    "duration": 339,
    "start_time": "2024-11-12T01:22:17.291Z"
   },
   {
    "duration": 6,
    "start_time": "2024-11-12T01:23:30.900Z"
   },
   {
    "duration": 56,
    "start_time": "2024-11-12T01:23:34.778Z"
   },
   {
    "duration": 5,
    "start_time": "2024-11-12T01:23:46.748Z"
   },
   {
    "duration": 59,
    "start_time": "2024-11-12T01:23:47.430Z"
   },
   {
    "duration": 213,
    "start_time": "2024-11-12T01:24:06.885Z"
   },
   {
    "duration": 59,
    "start_time": "2024-11-12T01:24:40.147Z"
   },
   {
    "duration": 48,
    "start_time": "2024-11-12T01:25:45.428Z"
   },
   {
    "duration": 47,
    "start_time": "2024-11-12T01:25:55.095Z"
   },
   {
    "duration": 11,
    "start_time": "2024-11-12T01:27:07.597Z"
   },
   {
    "duration": 10,
    "start_time": "2024-11-12T01:27:11.756Z"
   },
   {
    "duration": 4,
    "start_time": "2024-11-12T01:28:10.577Z"
   },
   {
    "duration": 7,
    "start_time": "2024-11-12T01:28:11.619Z"
   },
   {
    "duration": 482,
    "start_time": "2024-11-12T01:28:21.758Z"
   },
   {
    "duration": 100,
    "start_time": "2024-11-12T01:28:22.242Z"
   },
   {
    "duration": 28,
    "start_time": "2024-11-12T01:28:22.344Z"
   },
   {
    "duration": 4,
    "start_time": "2024-11-12T01:28:22.375Z"
   },
   {
    "duration": 5,
    "start_time": "2024-11-12T01:28:22.381Z"
   },
   {
    "duration": 3,
    "start_time": "2024-11-12T01:28:22.388Z"
   },
   {
    "duration": 4,
    "start_time": "2024-11-12T01:28:22.392Z"
   },
   {
    "duration": 27,
    "start_time": "2024-11-12T01:28:22.397Z"
   },
   {
    "duration": 10,
    "start_time": "2024-11-12T01:28:22.426Z"
   },
   {
    "duration": 3,
    "start_time": "2024-11-12T01:28:22.440Z"
   },
   {
    "duration": 2,
    "start_time": "2024-11-12T01:28:22.444Z"
   },
   {
    "duration": 393,
    "start_time": "2024-11-12T01:28:22.448Z"
   },
   {
    "duration": 8,
    "start_time": "2024-11-12T01:28:22.844Z"
   },
   {
    "duration": 10,
    "start_time": "2024-11-12T01:28:22.854Z"
   },
   {
    "duration": 3,
    "start_time": "2024-11-12T01:28:22.865Z"
   },
   {
    "duration": 3,
    "start_time": "2024-11-12T01:28:22.870Z"
   },
   {
    "duration": 3,
    "start_time": "2024-11-12T01:28:22.874Z"
   },
   {
    "duration": 2,
    "start_time": "2024-11-12T01:28:22.879Z"
   },
   {
    "duration": 3,
    "start_time": "2024-11-12T01:28:22.883Z"
   },
   {
    "duration": 37,
    "start_time": "2024-11-12T01:28:22.888Z"
   },
   {
    "duration": 2,
    "start_time": "2024-11-12T01:28:22.927Z"
   },
   {
    "duration": 4,
    "start_time": "2024-11-12T01:28:22.931Z"
   },
   {
    "duration": 3,
    "start_time": "2024-11-12T01:28:22.936Z"
   },
   {
    "duration": 3,
    "start_time": "2024-11-12T01:28:22.941Z"
   },
   {
    "duration": 3,
    "start_time": "2024-11-12T01:28:22.945Z"
   },
   {
    "duration": 3,
    "start_time": "2024-11-12T01:28:22.949Z"
   },
   {
    "duration": 2,
    "start_time": "2024-11-12T01:28:22.954Z"
   },
   {
    "duration": 2,
    "start_time": "2024-11-12T01:28:22.961Z"
   },
   {
    "duration": 9,
    "start_time": "2024-11-12T01:28:32.172Z"
   },
   {
    "duration": 16,
    "start_time": "2024-11-12T01:28:57.056Z"
   },
   {
    "duration": 8,
    "start_time": "2024-11-12T01:28:57.649Z"
   },
   {
    "duration": 3,
    "start_time": "2024-11-12T01:29:56.580Z"
   },
   {
    "duration": 477,
    "start_time": "2024-11-12T01:30:27.726Z"
   },
   {
    "duration": 75,
    "start_time": "2024-11-12T01:30:28.207Z"
   },
   {
    "duration": 30,
    "start_time": "2024-11-12T01:30:28.284Z"
   },
   {
    "duration": 4,
    "start_time": "2024-11-12T01:30:28.324Z"
   },
   {
    "duration": 3,
    "start_time": "2024-11-12T01:30:28.330Z"
   },
   {
    "duration": 3,
    "start_time": "2024-11-12T01:30:28.336Z"
   },
   {
    "duration": 3,
    "start_time": "2024-11-12T01:30:28.341Z"
   },
   {
    "duration": 3,
    "start_time": "2024-11-12T01:30:28.346Z"
   },
   {
    "duration": 11,
    "start_time": "2024-11-12T01:30:28.351Z"
   },
   {
    "duration": 4,
    "start_time": "2024-11-12T01:30:28.366Z"
   },
   {
    "duration": 2,
    "start_time": "2024-11-12T01:30:28.373Z"
   },
   {
    "duration": 336,
    "start_time": "2024-11-12T01:30:28.378Z"
   },
   {
    "duration": 12,
    "start_time": "2024-11-12T01:30:28.715Z"
   },
   {
    "duration": 12,
    "start_time": "2024-11-12T01:30:28.729Z"
   },
   {
    "duration": 7,
    "start_time": "2024-11-12T01:30:28.742Z"
   },
   {
    "duration": 4,
    "start_time": "2024-11-12T01:30:28.751Z"
   },
   {
    "duration": 2,
    "start_time": "2024-11-12T01:30:28.757Z"
   },
   {
    "duration": 3,
    "start_time": "2024-11-12T01:30:28.761Z"
   },
   {
    "duration": 3,
    "start_time": "2024-11-12T01:30:28.766Z"
   },
   {
    "duration": 3,
    "start_time": "2024-11-12T01:30:28.770Z"
   },
   {
    "duration": 3,
    "start_time": "2024-11-12T01:30:28.775Z"
   },
   {
    "duration": 45,
    "start_time": "2024-11-12T01:30:28.780Z"
   },
   {
    "duration": 3,
    "start_time": "2024-11-12T01:30:28.827Z"
   },
   {
    "duration": 3,
    "start_time": "2024-11-12T01:30:28.832Z"
   },
   {
    "duration": 3,
    "start_time": "2024-11-12T01:30:28.836Z"
   },
   {
    "duration": 2,
    "start_time": "2024-11-12T01:30:28.841Z"
   },
   {
    "duration": 3,
    "start_time": "2024-11-12T01:30:28.845Z"
   },
   {
    "duration": 1,
    "start_time": "2024-11-12T01:30:28.853Z"
   },
   {
    "duration": 2,
    "start_time": "2024-11-12T01:30:28.857Z"
   },
   {
    "duration": 3,
    "start_time": "2024-11-12T01:30:28.861Z"
   },
   {
    "duration": 5,
    "start_time": "2024-11-12T01:32:24.360Z"
   },
   {
    "duration": 9,
    "start_time": "2024-11-12T01:32:26.195Z"
   },
   {
    "duration": 12,
    "start_time": "2024-11-12T01:32:28.042Z"
   },
   {
    "duration": 7,
    "start_time": "2024-11-12T01:32:29.751Z"
   },
   {
    "duration": 3,
    "start_time": "2024-11-12T01:32:30.573Z"
   },
   {
    "duration": 400,
    "start_time": "2024-11-12T01:32:38.405Z"
   },
   {
    "duration": 86,
    "start_time": "2024-11-12T01:32:38.807Z"
   },
   {
    "duration": 29,
    "start_time": "2024-11-12T01:32:38.895Z"
   },
   {
    "duration": 4,
    "start_time": "2024-11-12T01:32:38.928Z"
   },
   {
    "duration": 3,
    "start_time": "2024-11-12T01:32:38.934Z"
   },
   {
    "duration": 4,
    "start_time": "2024-11-12T01:32:38.939Z"
   },
   {
    "duration": 4,
    "start_time": "2024-11-12T01:32:38.944Z"
   },
   {
    "duration": 5,
    "start_time": "2024-11-12T01:32:38.949Z"
   },
   {
    "duration": 10,
    "start_time": "2024-11-12T01:32:38.955Z"
   },
   {
    "duration": 3,
    "start_time": "2024-11-12T01:32:38.968Z"
   },
   {
    "duration": 2,
    "start_time": "2024-11-12T01:32:38.974Z"
   },
   {
    "duration": 881,
    "start_time": "2024-11-12T01:32:38.978Z"
   },
   {
    "duration": 0,
    "start_time": "2024-11-12T01:32:39.862Z"
   },
   {
    "duration": 0,
    "start_time": "2024-11-12T01:32:39.863Z"
   },
   {
    "duration": 0,
    "start_time": "2024-11-12T01:32:39.865Z"
   },
   {
    "duration": 0,
    "start_time": "2024-11-12T01:32:39.866Z"
   },
   {
    "duration": 0,
    "start_time": "2024-11-12T01:32:39.868Z"
   },
   {
    "duration": 0,
    "start_time": "2024-11-12T01:32:39.869Z"
   },
   {
    "duration": 0,
    "start_time": "2024-11-12T01:32:39.870Z"
   },
   {
    "duration": 0,
    "start_time": "2024-11-12T01:32:39.872Z"
   },
   {
    "duration": 0,
    "start_time": "2024-11-12T01:32:39.873Z"
   },
   {
    "duration": 0,
    "start_time": "2024-11-12T01:32:39.874Z"
   },
   {
    "duration": 0,
    "start_time": "2024-11-12T01:32:39.877Z"
   },
   {
    "duration": 0,
    "start_time": "2024-11-12T01:32:39.878Z"
   },
   {
    "duration": 1,
    "start_time": "2024-11-12T01:32:39.879Z"
   },
   {
    "duration": 0,
    "start_time": "2024-11-12T01:32:39.881Z"
   },
   {
    "duration": 0,
    "start_time": "2024-11-12T01:32:39.882Z"
   },
   {
    "duration": 0,
    "start_time": "2024-11-12T01:32:39.883Z"
   },
   {
    "duration": 0,
    "start_time": "2024-11-12T01:32:39.885Z"
   },
   {
    "duration": 0,
    "start_time": "2024-11-12T01:32:39.886Z"
   },
   {
    "duration": 5,
    "start_time": "2024-11-12T01:33:08.735Z"
   },
   {
    "duration": 5,
    "start_time": "2024-11-12T01:33:21.614Z"
   },
   {
    "duration": 6,
    "start_time": "2024-11-12T01:33:53.881Z"
   },
   {
    "duration": 461,
    "start_time": "2024-11-12T01:33:59.353Z"
   },
   {
    "duration": 61,
    "start_time": "2024-11-12T01:33:59.823Z"
   },
   {
    "duration": 25,
    "start_time": "2024-11-12T01:33:59.886Z"
   },
   {
    "duration": 12,
    "start_time": "2024-11-12T01:33:59.913Z"
   },
   {
    "duration": 4,
    "start_time": "2024-11-12T01:33:59.928Z"
   },
   {
    "duration": 4,
    "start_time": "2024-11-12T01:33:59.934Z"
   },
   {
    "duration": 4,
    "start_time": "2024-11-12T01:33:59.940Z"
   },
   {
    "duration": 4,
    "start_time": "2024-11-12T01:33:59.946Z"
   },
   {
    "duration": 12,
    "start_time": "2024-11-12T01:33:59.951Z"
   },
   {
    "duration": 3,
    "start_time": "2024-11-12T01:33:59.965Z"
   },
   {
    "duration": 5,
    "start_time": "2024-11-12T01:33:59.970Z"
   },
   {
    "duration": 3,
    "start_time": "2024-11-12T01:33:59.976Z"
   },
   {
    "duration": 303,
    "start_time": "2024-11-12T01:34:00.025Z"
   },
   {
    "duration": 5,
    "start_time": "2024-11-12T01:34:00.332Z"
   },
   {
    "duration": 459,
    "start_time": "2024-11-12T01:34:00.339Z"
   },
   {
    "duration": 0,
    "start_time": "2024-11-12T01:34:00.800Z"
   },
   {
    "duration": 0,
    "start_time": "2024-11-12T01:34:00.801Z"
   },
   {
    "duration": 0,
    "start_time": "2024-11-12T01:34:00.802Z"
   },
   {
    "duration": 0,
    "start_time": "2024-11-12T01:34:00.803Z"
   },
   {
    "duration": 0,
    "start_time": "2024-11-12T01:34:00.804Z"
   },
   {
    "duration": 0,
    "start_time": "2024-11-12T01:34:00.805Z"
   },
   {
    "duration": 0,
    "start_time": "2024-11-12T01:34:00.806Z"
   },
   {
    "duration": 0,
    "start_time": "2024-11-12T01:34:00.807Z"
   },
   {
    "duration": 0,
    "start_time": "2024-11-12T01:34:00.808Z"
   },
   {
    "duration": 0,
    "start_time": "2024-11-12T01:34:00.809Z"
   },
   {
    "duration": 0,
    "start_time": "2024-11-12T01:34:00.810Z"
   },
   {
    "duration": 0,
    "start_time": "2024-11-12T01:34:00.811Z"
   },
   {
    "duration": 0,
    "start_time": "2024-11-12T01:34:00.823Z"
   },
   {
    "duration": 0,
    "start_time": "2024-11-12T01:34:00.825Z"
   },
   {
    "duration": 0,
    "start_time": "2024-11-12T01:34:00.826Z"
   },
   {
    "duration": 0,
    "start_time": "2024-11-12T01:34:00.827Z"
   },
   {
    "duration": 0,
    "start_time": "2024-11-12T01:34:00.828Z"
   },
   {
    "duration": 0,
    "start_time": "2024-11-12T01:34:00.829Z"
   },
   {
    "duration": 9,
    "start_time": "2024-11-12T01:35:06.775Z"
   },
   {
    "duration": 19,
    "start_time": "2024-11-12T01:35:07.627Z"
   },
   {
    "duration": 14,
    "start_time": "2024-11-12T01:35:08.304Z"
   },
   {
    "duration": 4,
    "start_time": "2024-11-12T01:35:08.849Z"
   },
   {
    "duration": 462,
    "start_time": "2024-11-12T01:37:18.863Z"
   },
   {
    "duration": 59,
    "start_time": "2024-11-12T01:37:19.327Z"
   },
   {
    "duration": 37,
    "start_time": "2024-11-12T01:37:19.388Z"
   },
   {
    "duration": 3,
    "start_time": "2024-11-12T01:37:19.427Z"
   },
   {
    "duration": 3,
    "start_time": "2024-11-12T01:37:19.434Z"
   },
   {
    "duration": 3,
    "start_time": "2024-11-12T01:37:19.439Z"
   },
   {
    "duration": 3,
    "start_time": "2024-11-12T01:37:19.444Z"
   },
   {
    "duration": 3,
    "start_time": "2024-11-12T01:37:19.449Z"
   },
   {
    "duration": 16,
    "start_time": "2024-11-12T01:37:19.454Z"
   },
   {
    "duration": 4,
    "start_time": "2024-11-12T01:37:19.472Z"
   },
   {
    "duration": 5,
    "start_time": "2024-11-12T01:37:19.478Z"
   },
   {
    "duration": 4,
    "start_time": "2024-11-12T01:37:19.524Z"
   },
   {
    "duration": 298,
    "start_time": "2024-11-12T01:37:19.529Z"
   },
   {
    "duration": 3,
    "start_time": "2024-11-12T01:37:19.832Z"
   },
   {
    "duration": 5,
    "start_time": "2024-11-12T01:37:19.836Z"
   },
   {
    "duration": 7,
    "start_time": "2024-11-12T01:37:19.843Z"
   },
   {
    "duration": 11,
    "start_time": "2024-11-12T01:37:19.851Z"
   },
   {
    "duration": 8,
    "start_time": "2024-11-12T01:37:19.863Z"
   },
   {
    "duration": 3,
    "start_time": "2024-11-12T01:37:19.873Z"
   },
   {
    "duration": 2,
    "start_time": "2024-11-12T01:37:19.879Z"
   },
   {
    "duration": 40,
    "start_time": "2024-11-12T01:37:19.884Z"
   },
   {
    "duration": 2,
    "start_time": "2024-11-12T01:37:19.926Z"
   },
   {
    "duration": 5,
    "start_time": "2024-11-12T01:37:19.930Z"
   },
   {
    "duration": 4,
    "start_time": "2024-11-12T01:37:19.936Z"
   },
   {
    "duration": 2,
    "start_time": "2024-11-12T01:37:19.941Z"
   },
   {
    "duration": 2,
    "start_time": "2024-11-12T01:37:19.946Z"
   },
   {
    "duration": 2,
    "start_time": "2024-11-12T01:37:19.950Z"
   },
   {
    "duration": 2,
    "start_time": "2024-11-12T01:37:19.954Z"
   },
   {
    "duration": 3,
    "start_time": "2024-11-12T01:37:19.958Z"
   },
   {
    "duration": 3,
    "start_time": "2024-11-12T01:37:19.962Z"
   },
   {
    "duration": 3,
    "start_time": "2024-11-12T01:37:19.966Z"
   },
   {
    "duration": 3,
    "start_time": "2024-11-12T01:37:19.971Z"
   },
   {
    "duration": 3,
    "start_time": "2024-11-12T01:37:19.975Z"
   },
   {
    "duration": 7,
    "start_time": "2024-11-12T01:39:23.830Z"
   },
   {
    "duration": 473,
    "start_time": "2024-11-12T01:39:55.258Z"
   },
   {
    "duration": 69,
    "start_time": "2024-11-12T01:39:55.733Z"
   },
   {
    "duration": 40,
    "start_time": "2024-11-12T01:39:55.805Z"
   },
   {
    "duration": 2,
    "start_time": "2024-11-12T01:39:55.847Z"
   },
   {
    "duration": 3,
    "start_time": "2024-11-12T01:39:55.853Z"
   },
   {
    "duration": 4,
    "start_time": "2024-11-12T01:39:55.858Z"
   },
   {
    "duration": 3,
    "start_time": "2024-11-12T01:39:55.865Z"
   },
   {
    "duration": 4,
    "start_time": "2024-11-12T01:39:55.870Z"
   },
   {
    "duration": 12,
    "start_time": "2024-11-12T01:39:55.876Z"
   },
   {
    "duration": 3,
    "start_time": "2024-11-12T01:39:55.890Z"
   },
   {
    "duration": 5,
    "start_time": "2024-11-12T01:39:55.925Z"
   },
   {
    "duration": 2,
    "start_time": "2024-11-12T01:39:55.933Z"
   },
   {
    "duration": 317,
    "start_time": "2024-11-12T01:39:55.937Z"
   },
   {
    "duration": 4,
    "start_time": "2024-11-12T01:39:56.260Z"
   },
   {
    "duration": 4,
    "start_time": "2024-11-12T01:39:56.266Z"
   },
   {
    "duration": 9,
    "start_time": "2024-11-12T01:39:56.272Z"
   },
   {
    "duration": 12,
    "start_time": "2024-11-12T01:39:56.282Z"
   },
   {
    "duration": 33,
    "start_time": "2024-11-12T01:39:56.296Z"
   },
   {
    "duration": 4,
    "start_time": "2024-11-12T01:39:56.331Z"
   },
   {
    "duration": 3,
    "start_time": "2024-11-12T01:39:56.337Z"
   },
   {
    "duration": 2,
    "start_time": "2024-11-12T01:39:56.342Z"
   },
   {
    "duration": 3,
    "start_time": "2024-11-12T01:39:56.346Z"
   },
   {
    "duration": 2,
    "start_time": "2024-11-12T01:39:56.351Z"
   },
   {
    "duration": 2,
    "start_time": "2024-11-12T01:39:56.355Z"
   },
   {
    "duration": 2,
    "start_time": "2024-11-12T01:39:56.359Z"
   },
   {
    "duration": 2,
    "start_time": "2024-11-12T01:39:56.363Z"
   },
   {
    "duration": 2,
    "start_time": "2024-11-12T01:39:56.367Z"
   },
   {
    "duration": 3,
    "start_time": "2024-11-12T01:39:56.371Z"
   },
   {
    "duration": 2,
    "start_time": "2024-11-12T01:39:56.376Z"
   },
   {
    "duration": 2,
    "start_time": "2024-11-12T01:39:56.425Z"
   },
   {
    "duration": 2,
    "start_time": "2024-11-12T01:39:56.430Z"
   },
   {
    "duration": 3,
    "start_time": "2024-11-12T01:39:56.433Z"
   },
   {
    "duration": 3,
    "start_time": "2024-11-12T01:39:56.437Z"
   },
   {
    "duration": 5,
    "start_time": "2024-11-12T01:42:42.659Z"
   },
   {
    "duration": 422,
    "start_time": "2024-11-12T01:42:48.585Z"
   },
   {
    "duration": 80,
    "start_time": "2024-11-12T01:42:49.010Z"
   },
   {
    "duration": 37,
    "start_time": "2024-11-12T01:42:49.092Z"
   },
   {
    "duration": 3,
    "start_time": "2024-11-12T01:42:49.131Z"
   },
   {
    "duration": 5,
    "start_time": "2024-11-12T01:42:49.136Z"
   },
   {
    "duration": 5,
    "start_time": "2024-11-12T01:42:49.144Z"
   },
   {
    "duration": 4,
    "start_time": "2024-11-12T01:42:49.152Z"
   },
   {
    "duration": 4,
    "start_time": "2024-11-12T01:42:49.158Z"
   },
   {
    "duration": 5,
    "start_time": "2024-11-12T01:42:49.163Z"
   },
   {
    "duration": 13,
    "start_time": "2024-11-12T01:42:49.170Z"
   },
   {
    "duration": 4,
    "start_time": "2024-11-12T01:42:49.184Z"
   },
   {
    "duration": 36,
    "start_time": "2024-11-12T01:42:49.190Z"
   },
   {
    "duration": 333,
    "start_time": "2024-11-12T01:42:49.228Z"
   },
   {
    "duration": 4,
    "start_time": "2024-11-12T01:42:49.565Z"
   },
   {
    "duration": 5,
    "start_time": "2024-11-12T01:42:49.571Z"
   },
   {
    "duration": 9,
    "start_time": "2024-11-12T01:42:49.577Z"
   },
   {
    "duration": 37,
    "start_time": "2024-11-12T01:42:49.587Z"
   },
   {
    "duration": 7,
    "start_time": "2024-11-12T01:42:49.626Z"
   },
   {
    "duration": 5,
    "start_time": "2024-11-12T01:42:49.635Z"
   },
   {
    "duration": 3,
    "start_time": "2024-11-12T01:42:49.641Z"
   },
   {
    "duration": 2,
    "start_time": "2024-11-12T01:42:49.646Z"
   },
   {
    "duration": 3,
    "start_time": "2024-11-12T01:42:49.650Z"
   },
   {
    "duration": 2,
    "start_time": "2024-11-12T01:42:49.655Z"
   },
   {
    "duration": 2,
    "start_time": "2024-11-12T01:42:49.660Z"
   },
   {
    "duration": 3,
    "start_time": "2024-11-12T01:42:49.663Z"
   },
   {
    "duration": 3,
    "start_time": "2024-11-12T01:42:49.668Z"
   },
   {
    "duration": 4,
    "start_time": "2024-11-12T01:42:49.672Z"
   },
   {
    "duration": 47,
    "start_time": "2024-11-12T01:42:49.678Z"
   },
   {
    "duration": 2,
    "start_time": "2024-11-12T01:42:49.727Z"
   },
   {
    "duration": 3,
    "start_time": "2024-11-12T01:42:49.731Z"
   },
   {
    "duration": 2,
    "start_time": "2024-11-12T01:42:49.736Z"
   },
   {
    "duration": 3,
    "start_time": "2024-11-12T01:42:49.739Z"
   },
   {
    "duration": 3,
    "start_time": "2024-11-12T01:42:49.744Z"
   },
   {
    "duration": 79,
    "start_time": "2024-11-12T01:44:02.808Z"
   },
   {
    "duration": 366,
    "start_time": "2024-11-12T01:44:08.882Z"
   },
   {
    "duration": 4,
    "start_time": "2024-11-12T01:44:20.269Z"
   },
   {
    "duration": 4,
    "start_time": "2024-11-12T01:44:28.982Z"
   },
   {
    "duration": 16,
    "start_time": "2024-11-12T01:44:44.156Z"
   },
   {
    "duration": 4,
    "start_time": "2024-11-12T01:44:46.059Z"
   },
   {
    "duration": 469,
    "start_time": "2024-11-12T01:45:13.166Z"
   },
   {
    "duration": 70,
    "start_time": "2024-11-12T01:45:13.637Z"
   },
   {
    "duration": 35,
    "start_time": "2024-11-12T01:45:13.709Z"
   },
   {
    "duration": 3,
    "start_time": "2024-11-12T01:45:13.746Z"
   },
   {
    "duration": 3,
    "start_time": "2024-11-12T01:45:13.753Z"
   },
   {
    "duration": 3,
    "start_time": "2024-11-12T01:45:13.758Z"
   },
   {
    "duration": 4,
    "start_time": "2024-11-12T01:45:13.763Z"
   },
   {
    "duration": 5,
    "start_time": "2024-11-12T01:45:13.769Z"
   },
   {
    "duration": 4,
    "start_time": "2024-11-12T01:45:13.776Z"
   },
   {
    "duration": 45,
    "start_time": "2024-11-12T01:45:13.782Z"
   },
   {
    "duration": 4,
    "start_time": "2024-11-12T01:45:13.830Z"
   },
   {
    "duration": 12,
    "start_time": "2024-11-12T01:45:13.836Z"
   },
   {
    "duration": 9,
    "start_time": "2024-11-12T01:45:13.850Z"
   },
   {
    "duration": 2,
    "start_time": "2024-11-12T01:45:13.864Z"
   },
   {
    "duration": 9,
    "start_time": "2024-11-12T01:45:13.868Z"
   },
   {
    "duration": 14,
    "start_time": "2024-11-12T01:45:13.879Z"
   },
   {
    "duration": 34,
    "start_time": "2024-11-12T01:45:13.895Z"
   },
   {
    "duration": 4,
    "start_time": "2024-11-12T01:45:13.930Z"
   },
   {
    "duration": 3,
    "start_time": "2024-11-12T01:45:13.936Z"
   },
   {
    "duration": 2,
    "start_time": "2024-11-12T01:45:13.941Z"
   },
   {
    "duration": 3,
    "start_time": "2024-11-12T01:45:13.945Z"
   },
   {
    "duration": 3,
    "start_time": "2024-11-12T01:45:13.949Z"
   },
   {
    "duration": 2,
    "start_time": "2024-11-12T01:45:13.954Z"
   },
   {
    "duration": 4,
    "start_time": "2024-11-12T01:45:13.958Z"
   },
   {
    "duration": 3,
    "start_time": "2024-11-12T01:45:13.963Z"
   },
   {
    "duration": 2,
    "start_time": "2024-11-12T01:45:13.968Z"
   },
   {
    "duration": 2,
    "start_time": "2024-11-12T01:45:13.972Z"
   },
   {
    "duration": 49,
    "start_time": "2024-11-12T01:45:13.976Z"
   },
   {
    "duration": 2,
    "start_time": "2024-11-12T01:45:14.026Z"
   },
   {
    "duration": 2,
    "start_time": "2024-11-12T01:45:14.030Z"
   },
   {
    "duration": 2,
    "start_time": "2024-11-12T01:45:14.035Z"
   },
   {
    "duration": 3,
    "start_time": "2024-11-12T01:45:14.038Z"
   },
   {
    "duration": 436,
    "start_time": "2024-11-12T01:45:55.663Z"
   },
   {
    "duration": 67,
    "start_time": "2024-11-12T01:45:56.101Z"
   },
   {
    "duration": 27,
    "start_time": "2024-11-12T01:45:56.170Z"
   },
   {
    "duration": 3,
    "start_time": "2024-11-12T01:45:56.198Z"
   },
   {
    "duration": 19,
    "start_time": "2024-11-12T01:45:56.205Z"
   },
   {
    "duration": 4,
    "start_time": "2024-11-12T01:45:56.226Z"
   },
   {
    "duration": 3,
    "start_time": "2024-11-12T01:45:56.232Z"
   },
   {
    "duration": 4,
    "start_time": "2024-11-12T01:45:56.237Z"
   },
   {
    "duration": 4,
    "start_time": "2024-11-12T01:45:56.243Z"
   },
   {
    "duration": 4,
    "start_time": "2024-11-12T01:45:56.249Z"
   },
   {
    "duration": 12,
    "start_time": "2024-11-12T01:45:56.255Z"
   },
   {
    "duration": 4,
    "start_time": "2024-11-12T01:45:56.269Z"
   },
   {
    "duration": 3,
    "start_time": "2024-11-12T01:45:56.274Z"
   },
   {
    "duration": 48,
    "start_time": "2024-11-12T01:45:56.281Z"
   },
   {
    "duration": 10,
    "start_time": "2024-11-12T01:45:56.331Z"
   },
   {
    "duration": 6,
    "start_time": "2024-11-12T01:45:56.343Z"
   },
   {
    "duration": 3,
    "start_time": "2024-11-12T01:45:56.351Z"
   },
   {
    "duration": 2,
    "start_time": "2024-11-12T01:45:56.356Z"
   },
   {
    "duration": 3,
    "start_time": "2024-11-12T01:45:56.360Z"
   },
   {
    "duration": 3,
    "start_time": "2024-11-12T01:45:56.364Z"
   },
   {
    "duration": 3,
    "start_time": "2024-11-12T01:45:56.368Z"
   },
   {
    "duration": 2,
    "start_time": "2024-11-12T01:45:56.373Z"
   },
   {
    "duration": 3,
    "start_time": "2024-11-12T01:45:56.377Z"
   },
   {
    "duration": 44,
    "start_time": "2024-11-12T01:45:56.381Z"
   },
   {
    "duration": 3,
    "start_time": "2024-11-12T01:45:56.426Z"
   },
   {
    "duration": 4,
    "start_time": "2024-11-12T01:45:56.430Z"
   },
   {
    "duration": 2,
    "start_time": "2024-11-12T01:45:56.436Z"
   },
   {
    "duration": 3,
    "start_time": "2024-11-12T01:45:56.440Z"
   },
   {
    "duration": 3,
    "start_time": "2024-11-12T01:45:56.444Z"
   },
   {
    "duration": 3,
    "start_time": "2024-11-12T01:45:56.448Z"
   },
   {
    "duration": 3,
    "start_time": "2024-11-12T01:45:56.452Z"
   },
   {
    "duration": 424,
    "start_time": "2024-11-12T01:46:31.104Z"
   },
   {
    "duration": 83,
    "start_time": "2024-11-12T01:46:31.531Z"
   },
   {
    "duration": 30,
    "start_time": "2024-11-12T01:46:31.624Z"
   },
   {
    "duration": 3,
    "start_time": "2024-11-12T01:46:31.656Z"
   },
   {
    "duration": 7,
    "start_time": "2024-11-12T01:46:31.661Z"
   },
   {
    "duration": 4,
    "start_time": "2024-11-12T01:46:31.670Z"
   },
   {
    "duration": 2,
    "start_time": "2024-11-12T01:46:31.676Z"
   },
   {
    "duration": 5,
    "start_time": "2024-11-12T01:46:31.679Z"
   },
   {
    "duration": 38,
    "start_time": "2024-11-12T01:46:31.686Z"
   },
   {
    "duration": 4,
    "start_time": "2024-11-12T01:46:31.727Z"
   },
   {
    "duration": 2,
    "start_time": "2024-11-12T01:46:31.733Z"
   },
   {
    "duration": 8,
    "start_time": "2024-11-12T01:46:31.737Z"
   },
   {
    "duration": 12,
    "start_time": "2024-11-12T01:46:31.747Z"
   },
   {
    "duration": 7,
    "start_time": "2024-11-12T01:46:31.762Z"
   },
   {
    "duration": 4,
    "start_time": "2024-11-12T01:46:31.771Z"
   },
   {
    "duration": 2,
    "start_time": "2024-11-12T01:46:31.777Z"
   },
   {
    "duration": 2,
    "start_time": "2024-11-12T01:46:31.781Z"
   },
   {
    "duration": 3,
    "start_time": "2024-11-12T01:46:31.785Z"
   },
   {
    "duration": 37,
    "start_time": "2024-11-12T01:46:31.789Z"
   },
   {
    "duration": 3,
    "start_time": "2024-11-12T01:46:31.828Z"
   },
   {
    "duration": 2,
    "start_time": "2024-11-12T01:46:31.833Z"
   },
   {
    "duration": 3,
    "start_time": "2024-11-12T01:46:31.837Z"
   },
   {
    "duration": 2,
    "start_time": "2024-11-12T01:46:31.842Z"
   },
   {
    "duration": 3,
    "start_time": "2024-11-12T01:46:31.846Z"
   },
   {
    "duration": 3,
    "start_time": "2024-11-12T01:46:31.850Z"
   },
   {
    "duration": 3,
    "start_time": "2024-11-12T01:46:31.854Z"
   },
   {
    "duration": 4,
    "start_time": "2024-11-12T01:46:31.858Z"
   },
   {
    "duration": 2,
    "start_time": "2024-11-12T01:46:31.865Z"
   },
   {
    "duration": 3,
    "start_time": "2024-11-12T01:46:31.869Z"
   },
   {
    "duration": 3,
    "start_time": "2024-11-12T01:49:57.176Z"
   },
   {
    "duration": 7,
    "start_time": "2024-11-12T01:49:59.750Z"
   },
   {
    "duration": 3,
    "start_time": "2024-11-12T01:52:18.488Z"
   },
   {
    "duration": 425,
    "start_time": "2024-11-12T01:52:29.771Z"
   },
   {
    "duration": 89,
    "start_time": "2024-11-12T01:52:30.198Z"
   },
   {
    "duration": 26,
    "start_time": "2024-11-12T01:52:30.289Z"
   },
   {
    "duration": 2,
    "start_time": "2024-11-12T01:52:30.325Z"
   },
   {
    "duration": 2,
    "start_time": "2024-11-12T01:52:30.332Z"
   },
   {
    "duration": 3,
    "start_time": "2024-11-12T01:52:30.336Z"
   },
   {
    "duration": 2,
    "start_time": "2024-11-12T01:52:30.341Z"
   },
   {
    "duration": 3,
    "start_time": "2024-11-12T01:52:30.345Z"
   },
   {
    "duration": 11,
    "start_time": "2024-11-12T01:52:30.350Z"
   },
   {
    "duration": 4,
    "start_time": "2024-11-12T01:52:30.363Z"
   },
   {
    "duration": 3,
    "start_time": "2024-11-12T01:52:30.368Z"
   },
   {
    "duration": 9,
    "start_time": "2024-11-12T01:52:30.372Z"
   },
   {
    "duration": 50,
    "start_time": "2024-11-12T01:52:30.382Z"
   },
   {
    "duration": 7,
    "start_time": "2024-11-12T01:52:30.435Z"
   },
   {
    "duration": 4,
    "start_time": "2024-11-12T01:52:30.444Z"
   },
   {
    "duration": 2,
    "start_time": "2024-11-12T01:52:30.450Z"
   },
   {
    "duration": 4,
    "start_time": "2024-11-12T01:52:30.453Z"
   },
   {
    "duration": 3,
    "start_time": "2024-11-12T01:52:30.458Z"
   },
   {
    "duration": 4,
    "start_time": "2024-11-12T01:52:30.462Z"
   },
   {
    "duration": 2,
    "start_time": "2024-11-12T01:52:30.468Z"
   },
   {
    "duration": 3,
    "start_time": "2024-11-12T01:52:30.472Z"
   },
   {
    "duration": 3,
    "start_time": "2024-11-12T01:52:30.476Z"
   },
   {
    "duration": 2,
    "start_time": "2024-11-12T01:52:30.481Z"
   },
   {
    "duration": 3,
    "start_time": "2024-11-12T01:52:30.524Z"
   },
   {
    "duration": 3,
    "start_time": "2024-11-12T01:52:30.528Z"
   },
   {
    "duration": 2,
    "start_time": "2024-11-12T01:52:30.533Z"
   },
   {
    "duration": 3,
    "start_time": "2024-11-12T01:52:30.537Z"
   },
   {
    "duration": 3,
    "start_time": "2024-11-12T01:52:30.542Z"
   },
   {
    "duration": 2,
    "start_time": "2024-11-12T01:52:30.547Z"
   },
   {
    "duration": 546,
    "start_time": "2024-11-12T01:57:21.778Z"
   },
   {
    "duration": 33,
    "start_time": "2024-11-12T01:57:55.200Z"
   },
   {
    "duration": 6,
    "start_time": "2024-11-12T01:58:14.664Z"
   },
   {
    "duration": 12,
    "start_time": "2024-11-12T01:58:36.987Z"
   },
   {
    "duration": 2199,
    "start_time": "2024-11-13T00:24:38.793Z"
   },
   {
    "duration": 39,
    "start_time": "2024-11-13T00:24:40.994Z"
   },
   {
    "duration": 24,
    "start_time": "2024-11-13T00:24:41.035Z"
   },
   {
    "duration": 2,
    "start_time": "2024-11-13T00:24:41.061Z"
   },
   {
    "duration": 3,
    "start_time": "2024-11-13T00:24:41.065Z"
   },
   {
    "duration": 4,
    "start_time": "2024-11-13T00:24:41.070Z"
   },
   {
    "duration": 2,
    "start_time": "2024-11-13T00:24:41.075Z"
   },
   {
    "duration": 27,
    "start_time": "2024-11-13T00:24:41.079Z"
   },
   {
    "duration": 10,
    "start_time": "2024-11-13T00:24:41.108Z"
   },
   {
    "duration": 3,
    "start_time": "2024-11-13T00:24:41.121Z"
   },
   {
    "duration": 3,
    "start_time": "2024-11-13T00:24:41.126Z"
   },
   {
    "duration": 7,
    "start_time": "2024-11-13T00:24:41.130Z"
   },
   {
    "duration": 11,
    "start_time": "2024-11-13T00:24:41.138Z"
   },
   {
    "duration": 8,
    "start_time": "2024-11-13T00:24:41.150Z"
   },
   {
    "duration": 4,
    "start_time": "2024-11-13T00:24:41.161Z"
   },
   {
    "duration": 44,
    "start_time": "2024-11-13T00:24:41.167Z"
   },
   {
    "duration": 4,
    "start_time": "2024-11-13T00:24:41.212Z"
   },
   {
    "duration": 2,
    "start_time": "2024-11-13T00:24:41.218Z"
   },
   {
    "duration": 2,
    "start_time": "2024-11-13T00:24:41.222Z"
   },
   {
    "duration": 3,
    "start_time": "2024-11-13T00:24:41.226Z"
   },
   {
    "duration": 14,
    "start_time": "2024-11-13T00:24:41.230Z"
   },
   {
    "duration": 2,
    "start_time": "2024-11-13T00:24:41.246Z"
   },
   {
    "duration": 2,
    "start_time": "2024-11-13T00:24:41.249Z"
   },
   {
    "duration": 2,
    "start_time": "2024-11-13T00:24:41.253Z"
   },
   {
    "duration": 6,
    "start_time": "2024-11-13T00:24:41.257Z"
   },
   {
    "duration": 3,
    "start_time": "2024-11-13T00:24:41.265Z"
   },
   {
    "duration": 4,
    "start_time": "2024-11-13T00:24:41.269Z"
   },
   {
    "duration": 2,
    "start_time": "2024-11-13T00:24:41.309Z"
   },
   {
    "duration": 3,
    "start_time": "2024-11-13T00:24:41.312Z"
   },
   {
    "duration": 5,
    "start_time": "2024-11-13T00:25:29.665Z"
   },
   {
    "duration": 24,
    "start_time": "2024-11-13T00:27:06.924Z"
   },
   {
    "duration": 5,
    "start_time": "2024-11-13T00:27:09.270Z"
   },
   {
    "duration": 10,
    "start_time": "2024-11-13T00:34:10.910Z"
   },
   {
    "duration": 15,
    "start_time": "2024-11-13T00:34:29.846Z"
   },
   {
    "duration": 17,
    "start_time": "2024-11-13T00:34:40.943Z"
   },
   {
    "duration": 8,
    "start_time": "2024-11-13T00:34:52.046Z"
   },
   {
    "duration": 14,
    "start_time": "2024-11-13T00:35:56.909Z"
   },
   {
    "duration": 15,
    "start_time": "2024-11-13T00:36:03.036Z"
   },
   {
    "duration": 18,
    "start_time": "2024-11-13T00:36:06.517Z"
   },
   {
    "duration": 14,
    "start_time": "2024-11-13T00:36:10.372Z"
   },
   {
    "duration": 209,
    "start_time": "2024-11-13T00:36:58.592Z"
   },
   {
    "duration": 202,
    "start_time": "2024-11-13T00:38:39.792Z"
   },
   {
    "duration": 241,
    "start_time": "2024-11-13T00:40:36.017Z"
   },
   {
    "duration": 7,
    "start_time": "2024-11-13T00:42:13.839Z"
   },
   {
    "duration": 9,
    "start_time": "2024-11-13T00:42:49.278Z"
   },
   {
    "duration": 12,
    "start_time": "2024-11-13T00:44:11.889Z"
   },
   {
    "duration": 15,
    "start_time": "2024-11-13T00:45:39.736Z"
   },
   {
    "duration": 2,
    "start_time": "2024-11-13T00:52:53.485Z"
   },
   {
    "duration": 474,
    "start_time": "2024-11-13T00:53:51.670Z"
   },
   {
    "duration": 8,
    "start_time": "2024-11-13T00:54:12.545Z"
   },
   {
    "duration": 9,
    "start_time": "2024-11-13T00:54:35.352Z"
   },
   {
    "duration": 110,
    "start_time": "2024-11-13T00:57:29.436Z"
   },
   {
    "duration": 7,
    "start_time": "2024-11-13T00:57:34.792Z"
   },
   {
    "duration": 8,
    "start_time": "2024-11-13T00:58:08.315Z"
   },
   {
    "duration": 24,
    "start_time": "2024-11-13T00:58:32.539Z"
   },
   {
    "duration": 377,
    "start_time": "2024-11-13T00:58:37.967Z"
   },
   {
    "duration": 388,
    "start_time": "2024-11-13T00:59:30.817Z"
   },
   {
    "duration": 7,
    "start_time": "2024-11-13T01:02:21.788Z"
   },
   {
    "duration": 7,
    "start_time": "2024-11-13T01:02:29.977Z"
   },
   {
    "duration": 422,
    "start_time": "2024-11-13T01:04:40.840Z"
   },
   {
    "duration": 429,
    "start_time": "2024-11-13T01:05:11.321Z"
   },
   {
    "duration": 338,
    "start_time": "2024-11-13T01:14:02.332Z"
   },
   {
    "duration": 240,
    "start_time": "2024-11-13T01:14:18.684Z"
   },
   {
    "duration": 239,
    "start_time": "2024-11-13T01:14:36.653Z"
   },
   {
    "duration": 180,
    "start_time": "2024-11-13T01:14:46.131Z"
   },
   {
    "duration": 198,
    "start_time": "2024-11-13T01:14:55.835Z"
   },
   {
    "duration": 245,
    "start_time": "2024-11-13T01:15:03.022Z"
   },
   {
    "duration": 2109,
    "start_time": "2024-11-13T01:20:05.985Z"
   },
   {
    "duration": 2405,
    "start_time": "2024-11-13T01:20:22.163Z"
   },
   {
    "duration": 2,
    "start_time": "2024-11-13T01:22:24.551Z"
   },
   {
    "duration": 175,
    "start_time": "2024-11-13T01:23:25.036Z"
   },
   {
    "duration": 2007,
    "start_time": "2024-11-13T01:24:05.509Z"
   },
   {
    "duration": 2309,
    "start_time": "2024-11-13T01:24:16.403Z"
   },
   {
    "duration": 13,
    "start_time": "2024-11-13T01:33:44.738Z"
   },
   {
    "duration": 22,
    "start_time": "2024-11-13T01:38:22.703Z"
   },
   {
    "duration": 12,
    "start_time": "2024-11-13T01:41:25.850Z"
   },
   {
    "duration": 12,
    "start_time": "2024-11-13T01:42:05.799Z"
   },
   {
    "duration": 26,
    "start_time": "2024-11-13T01:42:21.318Z"
   },
   {
    "duration": 14,
    "start_time": "2024-11-13T01:42:26.768Z"
   },
   {
    "duration": 13,
    "start_time": "2024-11-13T01:42:34.373Z"
   },
   {
    "duration": 2552,
    "start_time": "2024-11-15T00:18:14.758Z"
   },
   {
    "duration": 2,
    "start_time": "2024-11-15T00:19:18.615Z"
   },
   {
    "duration": 214,
    "start_time": "2024-11-15T00:19:24.041Z"
   },
   {
    "duration": 771,
    "start_time": "2024-11-15T00:19:35.443Z"
   },
   {
    "duration": 38,
    "start_time": "2024-11-15T00:19:36.217Z"
   },
   {
    "duration": 25,
    "start_time": "2024-11-15T00:19:36.257Z"
   },
   {
    "duration": 3,
    "start_time": "2024-11-15T00:19:36.284Z"
   },
   {
    "duration": 3,
    "start_time": "2024-11-15T00:19:36.289Z"
   },
   {
    "duration": 4,
    "start_time": "2024-11-15T00:19:36.293Z"
   },
   {
    "duration": 3,
    "start_time": "2024-11-15T00:19:36.298Z"
   },
   {
    "duration": 4,
    "start_time": "2024-11-15T00:19:36.304Z"
   },
   {
    "duration": 10,
    "start_time": "2024-11-15T00:19:36.309Z"
   },
   {
    "duration": 4,
    "start_time": "2024-11-15T00:19:36.321Z"
   },
   {
    "duration": 3,
    "start_time": "2024-11-15T00:19:36.326Z"
   },
   {
    "duration": 7,
    "start_time": "2024-11-15T00:19:36.371Z"
   },
   {
    "duration": 10,
    "start_time": "2024-11-15T00:19:36.381Z"
   },
   {
    "duration": 6,
    "start_time": "2024-11-15T00:19:36.394Z"
   },
   {
    "duration": 4,
    "start_time": "2024-11-15T00:19:36.403Z"
   },
   {
    "duration": 10,
    "start_time": "2024-11-15T00:19:36.409Z"
   },
   {
    "duration": 52,
    "start_time": "2024-11-15T00:19:36.420Z"
   },
   {
    "duration": 5,
    "start_time": "2024-11-15T00:19:36.473Z"
   },
   {
    "duration": 14,
    "start_time": "2024-11-15T00:19:36.479Z"
   },
   {
    "duration": 268,
    "start_time": "2024-11-15T00:19:36.494Z"
   },
   {
    "duration": 16,
    "start_time": "2024-11-15T00:19:36.764Z"
   },
   {
    "duration": 2,
    "start_time": "2024-11-15T00:19:36.782Z"
   },
   {
    "duration": 9,
    "start_time": "2024-11-15T00:19:36.786Z"
   },
   {
    "duration": 7,
    "start_time": "2024-11-15T00:19:36.796Z"
   },
   {
    "duration": 297,
    "start_time": "2024-11-15T00:19:36.804Z"
   },
   {
    "duration": 0,
    "start_time": "2024-11-15T00:19:37.102Z"
   },
   {
    "duration": 0,
    "start_time": "2024-11-15T00:19:37.103Z"
   },
   {
    "duration": 1,
    "start_time": "2024-11-15T00:19:37.105Z"
   },
   {
    "duration": 0,
    "start_time": "2024-11-15T00:19:37.107Z"
   },
   {
    "duration": 0,
    "start_time": "2024-11-15T00:19:37.108Z"
   },
   {
    "duration": 0,
    "start_time": "2024-11-15T00:19:37.110Z"
   },
   {
    "duration": 0,
    "start_time": "2024-11-15T00:19:37.111Z"
   },
   {
    "duration": 0,
    "start_time": "2024-11-15T00:19:37.113Z"
   },
   {
    "duration": 0,
    "start_time": "2024-11-15T00:19:37.114Z"
   },
   {
    "duration": 0,
    "start_time": "2024-11-15T00:19:37.116Z"
   },
   {
    "duration": 0,
    "start_time": "2024-11-15T00:19:37.117Z"
   },
   {
    "duration": 0,
    "start_time": "2024-11-15T00:19:37.119Z"
   },
   {
    "duration": 800,
    "start_time": "2024-11-15T00:19:49.637Z"
   },
   {
    "duration": 32,
    "start_time": "2024-11-15T00:19:50.439Z"
   },
   {
    "duration": 24,
    "start_time": "2024-11-15T00:19:50.473Z"
   },
   {
    "duration": 3,
    "start_time": "2024-11-15T00:19:50.499Z"
   },
   {
    "duration": 3,
    "start_time": "2024-11-15T00:19:50.504Z"
   },
   {
    "duration": 3,
    "start_time": "2024-11-15T00:19:50.509Z"
   },
   {
    "duration": 2,
    "start_time": "2024-11-15T00:19:50.515Z"
   },
   {
    "duration": 4,
    "start_time": "2024-11-15T00:19:50.519Z"
   },
   {
    "duration": 49,
    "start_time": "2024-11-15T00:19:50.525Z"
   },
   {
    "duration": 4,
    "start_time": "2024-11-15T00:19:50.577Z"
   },
   {
    "duration": 3,
    "start_time": "2024-11-15T00:19:50.583Z"
   },
   {
    "duration": 7,
    "start_time": "2024-11-15T00:19:50.589Z"
   },
   {
    "duration": 12,
    "start_time": "2024-11-15T00:19:50.598Z"
   },
   {
    "duration": 7,
    "start_time": "2024-11-15T00:19:50.612Z"
   },
   {
    "duration": 5,
    "start_time": "2024-11-15T00:19:50.621Z"
   },
   {
    "duration": 43,
    "start_time": "2024-11-15T00:19:50.628Z"
   },
   {
    "duration": 23,
    "start_time": "2024-11-15T00:19:50.673Z"
   },
   {
    "duration": 4,
    "start_time": "2024-11-15T00:19:50.698Z"
   },
   {
    "duration": 15,
    "start_time": "2024-11-15T00:19:50.704Z"
   },
   {
    "duration": 257,
    "start_time": "2024-11-15T00:19:50.721Z"
   },
   {
    "duration": 15,
    "start_time": "2024-11-15T00:19:50.980Z"
   },
   {
    "duration": 2,
    "start_time": "2024-11-15T00:19:50.997Z"
   },
   {
    "duration": 8,
    "start_time": "2024-11-15T00:19:51.000Z"
   },
   {
    "duration": 6,
    "start_time": "2024-11-15T00:19:51.010Z"
   },
   {
    "duration": 285,
    "start_time": "2024-11-15T00:19:51.017Z"
   },
   {
    "duration": 0,
    "start_time": "2024-11-15T00:19:51.305Z"
   },
   {
    "duration": 0,
    "start_time": "2024-11-15T00:19:51.306Z"
   },
   {
    "duration": 0,
    "start_time": "2024-11-15T00:19:51.307Z"
   },
   {
    "duration": 0,
    "start_time": "2024-11-15T00:19:51.309Z"
   },
   {
    "duration": 0,
    "start_time": "2024-11-15T00:19:51.310Z"
   },
   {
    "duration": 0,
    "start_time": "2024-11-15T00:19:51.312Z"
   },
   {
    "duration": 0,
    "start_time": "2024-11-15T00:19:51.313Z"
   },
   {
    "duration": 0,
    "start_time": "2024-11-15T00:19:51.315Z"
   },
   {
    "duration": 0,
    "start_time": "2024-11-15T00:19:51.316Z"
   },
   {
    "duration": 0,
    "start_time": "2024-11-15T00:19:51.317Z"
   },
   {
    "duration": 0,
    "start_time": "2024-11-15T00:19:51.318Z"
   },
   {
    "duration": 0,
    "start_time": "2024-11-15T00:19:51.319Z"
   },
   {
    "duration": 14,
    "start_time": "2024-11-15T00:20:12.120Z"
   },
   {
    "duration": 15,
    "start_time": "2024-11-15T00:20:29.765Z"
   },
   {
    "duration": 23,
    "start_time": "2024-11-15T00:20:40.800Z"
   },
   {
    "duration": 112,
    "start_time": "2024-11-15T00:24:27.722Z"
   },
   {
    "duration": 377,
    "start_time": "2024-11-15T00:24:37.543Z"
   },
   {
    "duration": 386,
    "start_time": "2024-11-15T00:24:58.553Z"
   },
   {
    "duration": 861,
    "start_time": "2024-11-15T00:25:06.693Z"
   },
   {
    "duration": 38,
    "start_time": "2024-11-15T00:25:07.556Z"
   },
   {
    "duration": 26,
    "start_time": "2024-11-15T00:25:07.596Z"
   },
   {
    "duration": 3,
    "start_time": "2024-11-15T00:25:07.623Z"
   },
   {
    "duration": 3,
    "start_time": "2024-11-15T00:25:07.629Z"
   },
   {
    "duration": 3,
    "start_time": "2024-11-15T00:25:07.634Z"
   },
   {
    "duration": 3,
    "start_time": "2024-11-15T00:25:07.638Z"
   },
   {
    "duration": 29,
    "start_time": "2024-11-15T00:25:07.642Z"
   },
   {
    "duration": 10,
    "start_time": "2024-11-15T00:25:07.674Z"
   },
   {
    "duration": 4,
    "start_time": "2024-11-15T00:25:07.685Z"
   },
   {
    "duration": 2,
    "start_time": "2024-11-15T00:25:07.690Z"
   },
   {
    "duration": 6,
    "start_time": "2024-11-15T00:25:07.694Z"
   },
   {
    "duration": 10,
    "start_time": "2024-11-15T00:25:07.702Z"
   },
   {
    "duration": 7,
    "start_time": "2024-11-15T00:25:07.716Z"
   },
   {
    "duration": 4,
    "start_time": "2024-11-15T00:25:07.725Z"
   },
   {
    "duration": 47,
    "start_time": "2024-11-15T00:25:07.731Z"
   },
   {
    "duration": 25,
    "start_time": "2024-11-15T00:25:07.780Z"
   },
   {
    "duration": 5,
    "start_time": "2024-11-15T00:25:07.807Z"
   },
   {
    "duration": 16,
    "start_time": "2024-11-15T00:25:07.814Z"
   },
   {
    "duration": 254,
    "start_time": "2024-11-15T00:25:07.832Z"
   },
   {
    "duration": 14,
    "start_time": "2024-11-15T00:25:08.089Z"
   },
   {
    "duration": 3,
    "start_time": "2024-11-15T00:25:08.104Z"
   },
   {
    "duration": 8,
    "start_time": "2024-11-15T00:25:08.108Z"
   },
   {
    "duration": 7,
    "start_time": "2024-11-15T00:25:08.118Z"
   },
   {
    "duration": 463,
    "start_time": "2024-11-15T00:25:08.127Z"
   },
   {
    "duration": 420,
    "start_time": "2024-11-15T00:25:08.592Z"
   },
   {
    "duration": 251,
    "start_time": "2024-11-15T00:25:09.013Z"
   },
   {
    "duration": 2256,
    "start_time": "2024-11-15T00:25:09.271Z"
   },
   {
    "duration": 185,
    "start_time": "2024-11-15T00:25:11.529Z"
   },
   {
    "duration": 2,
    "start_time": "2024-11-15T00:25:11.718Z"
   },
   {
    "duration": 12,
    "start_time": "2024-11-15T00:25:11.722Z"
   },
   {
    "duration": 12,
    "start_time": "2024-11-15T00:25:11.736Z"
   },
   {
    "duration": 11,
    "start_time": "2024-11-15T00:25:11.770Z"
   },
   {
    "duration": 2,
    "start_time": "2024-11-15T00:25:11.783Z"
   },
   {
    "duration": 3,
    "start_time": "2024-11-15T00:25:11.787Z"
   },
   {
    "duration": 8,
    "start_time": "2024-11-15T00:25:11.791Z"
   },
   {
    "duration": 2,
    "start_time": "2024-11-15T00:25:11.800Z"
   },
   {
    "duration": 8,
    "start_time": "2024-11-15T00:27:22.209Z"
   },
   {
    "duration": 2,
    "start_time": "2024-11-15T00:29:57.011Z"
   },
   {
    "duration": 9,
    "start_time": "2024-11-15T00:32:43.671Z"
   },
   {
    "duration": 2596,
    "start_time": "2024-12-02T23:48:45.103Z"
   },
   {
    "duration": 41,
    "start_time": "2024-12-02T23:48:47.701Z"
   },
   {
    "duration": 26,
    "start_time": "2024-12-02T23:48:47.743Z"
   },
   {
    "duration": 2,
    "start_time": "2024-12-02T23:48:47.772Z"
   },
   {
    "duration": 3,
    "start_time": "2024-12-02T23:48:47.776Z"
   },
   {
    "duration": 4,
    "start_time": "2024-12-02T23:48:47.780Z"
   },
   {
    "duration": 4,
    "start_time": "2024-12-02T23:48:47.786Z"
   },
   {
    "duration": 10,
    "start_time": "2024-12-02T23:48:47.792Z"
   },
   {
    "duration": 4,
    "start_time": "2024-12-02T23:48:47.805Z"
   },
   {
    "duration": 5,
    "start_time": "2024-12-02T23:48:47.812Z"
   },
   {
    "duration": 51,
    "start_time": "2024-12-02T23:48:47.819Z"
   },
   {
    "duration": 7,
    "start_time": "2024-12-02T23:48:47.871Z"
   },
   {
    "duration": 4,
    "start_time": "2024-12-02T23:48:47.879Z"
   },
   {
    "duration": 9,
    "start_time": "2024-12-02T23:48:47.885Z"
   },
   {
    "duration": 23,
    "start_time": "2024-12-02T23:48:47.896Z"
   },
   {
    "duration": 4,
    "start_time": "2024-12-02T23:48:47.921Z"
   },
   {
    "duration": 51,
    "start_time": "2024-12-02T23:48:47.927Z"
   },
   {
    "duration": 238,
    "start_time": "2024-12-02T23:48:47.980Z"
   },
   {
    "duration": 14,
    "start_time": "2024-12-02T23:48:48.220Z"
   },
   {
    "duration": 8,
    "start_time": "2024-12-02T23:48:48.235Z"
   },
   {
    "duration": 10,
    "start_time": "2024-12-02T23:48:48.245Z"
   },
   {
    "duration": 415,
    "start_time": "2024-12-02T23:48:48.257Z"
   },
   {
    "duration": 404,
    "start_time": "2024-12-02T23:48:48.674Z"
   },
   {
    "duration": 319,
    "start_time": "2024-12-02T23:48:49.080Z"
   },
   {
    "duration": 2236,
    "start_time": "2024-12-02T23:48:49.402Z"
   },
   {
    "duration": 188,
    "start_time": "2024-12-02T23:48:51.639Z"
   },
   {
    "duration": 13,
    "start_time": "2024-12-02T23:48:51.829Z"
   },
   {
    "duration": 25,
    "start_time": "2024-12-02T23:48:51.845Z"
   },
   {
    "duration": 11,
    "start_time": "2024-12-02T23:48:51.872Z"
   },
   {
    "duration": 7,
    "start_time": "2024-12-02T23:48:51.885Z"
   },
   {
    "duration": 8,
    "start_time": "2024-12-02T23:48:51.893Z"
   },
   {
    "duration": 202,
    "start_time": "2024-12-02T23:49:30.502Z"
   },
   {
    "duration": 22,
    "start_time": "2024-12-02T23:54:42.758Z"
   },
   {
    "duration": 24,
    "start_time": "2024-12-02T23:55:24.880Z"
   },
   {
    "duration": 21,
    "start_time": "2024-12-02T23:55:49.022Z"
   },
   {
    "duration": 21,
    "start_time": "2024-12-02T23:56:08.345Z"
   },
   {
    "duration": 18,
    "start_time": "2024-12-02T23:56:16.928Z"
   },
   {
    "duration": 17,
    "start_time": "2024-12-02T23:56:24.550Z"
   },
   {
    "duration": 10,
    "start_time": "2024-12-02T23:56:40.807Z"
   },
   {
    "duration": 819,
    "start_time": "2024-12-02T23:57:00.169Z"
   },
   {
    "duration": 32,
    "start_time": "2024-12-02T23:57:00.990Z"
   },
   {
    "duration": 34,
    "start_time": "2024-12-02T23:57:01.024Z"
   },
   {
    "duration": 4,
    "start_time": "2024-12-02T23:57:01.071Z"
   },
   {
    "duration": 4,
    "start_time": "2024-12-02T23:57:01.078Z"
   },
   {
    "duration": 5,
    "start_time": "2024-12-02T23:57:01.084Z"
   },
   {
    "duration": 4,
    "start_time": "2024-12-02T23:57:01.091Z"
   },
   {
    "duration": 18,
    "start_time": "2024-12-02T23:57:01.098Z"
   },
   {
    "duration": 4,
    "start_time": "2024-12-02T23:57:01.119Z"
   },
   {
    "duration": 7,
    "start_time": "2024-12-02T23:57:01.126Z"
   },
   {
    "duration": 13,
    "start_time": "2024-12-02T23:57:01.170Z"
   },
   {
    "duration": 8,
    "start_time": "2024-12-02T23:57:01.185Z"
   },
   {
    "duration": 6,
    "start_time": "2024-12-02T23:57:01.195Z"
   },
   {
    "duration": 14,
    "start_time": "2024-12-02T23:57:01.205Z"
   },
   {
    "duration": 47,
    "start_time": "2024-12-02T23:57:01.223Z"
   },
   {
    "duration": 7,
    "start_time": "2024-12-02T23:57:01.272Z"
   },
   {
    "duration": 18,
    "start_time": "2024-12-02T23:57:01.281Z"
   },
   {
    "duration": 264,
    "start_time": "2024-12-02T23:57:01.302Z"
   },
   {
    "duration": 16,
    "start_time": "2024-12-02T23:57:01.569Z"
   },
   {
    "duration": 9,
    "start_time": "2024-12-02T23:57:01.587Z"
   },
   {
    "duration": 8,
    "start_time": "2024-12-02T23:57:01.602Z"
   },
   {
    "duration": 467,
    "start_time": "2024-12-02T23:57:01.612Z"
   },
   {
    "duration": 430,
    "start_time": "2024-12-02T23:57:02.081Z"
   },
   {
    "duration": 251,
    "start_time": "2024-12-02T23:57:02.513Z"
   },
   {
    "duration": 2311,
    "start_time": "2024-12-02T23:57:02.770Z"
   },
   {
    "duration": 189,
    "start_time": "2024-12-02T23:57:05.083Z"
   },
   {
    "duration": 14,
    "start_time": "2024-12-02T23:57:05.274Z"
   },
   {
    "duration": 11,
    "start_time": "2024-12-02T23:57:05.291Z"
   },
   {
    "duration": 14,
    "start_time": "2024-12-02T23:57:05.304Z"
   },
   {
    "duration": 17,
    "start_time": "2024-12-02T23:57:05.320Z"
   },
   {
    "duration": 33,
    "start_time": "2024-12-02T23:57:05.338Z"
   },
   {
    "duration": 10,
    "start_time": "2024-12-02T23:57:05.373Z"
   },
   {
    "duration": 12,
    "start_time": "2024-12-02T23:59:17.800Z"
   },
   {
    "duration": 816,
    "start_time": "2024-12-03T00:00:04.614Z"
   },
   {
    "duration": 28,
    "start_time": "2024-12-03T00:00:05.432Z"
   },
   {
    "duration": 29,
    "start_time": "2024-12-03T00:00:05.462Z"
   },
   {
    "duration": 2,
    "start_time": "2024-12-03T00:00:05.493Z"
   },
   {
    "duration": 3,
    "start_time": "2024-12-03T00:00:05.498Z"
   },
   {
    "duration": 4,
    "start_time": "2024-12-03T00:00:05.503Z"
   },
   {
    "duration": 5,
    "start_time": "2024-12-03T00:00:05.509Z"
   },
   {
    "duration": 9,
    "start_time": "2024-12-03T00:00:05.515Z"
   },
   {
    "duration": 3,
    "start_time": "2024-12-03T00:00:05.526Z"
   },
   {
    "duration": 41,
    "start_time": "2024-12-03T00:00:05.531Z"
   },
   {
    "duration": 10,
    "start_time": "2024-12-03T00:00:05.573Z"
   },
   {
    "duration": 6,
    "start_time": "2024-12-03T00:00:05.585Z"
   },
   {
    "duration": 5,
    "start_time": "2024-12-03T00:00:05.593Z"
   },
   {
    "duration": 9,
    "start_time": "2024-12-03T00:00:05.602Z"
   },
   {
    "duration": 23,
    "start_time": "2024-12-03T00:00:05.613Z"
   },
   {
    "duration": 4,
    "start_time": "2024-12-03T00:00:05.669Z"
   },
   {
    "duration": 15,
    "start_time": "2024-12-03T00:00:05.675Z"
   },
   {
    "duration": 256,
    "start_time": "2024-12-03T00:00:05.691Z"
   },
   {
    "duration": 13,
    "start_time": "2024-12-03T00:00:05.949Z"
   },
   {
    "duration": 8,
    "start_time": "2024-12-03T00:00:05.964Z"
   },
   {
    "duration": 7,
    "start_time": "2024-12-03T00:00:05.973Z"
   },
   {
    "duration": 481,
    "start_time": "2024-12-03T00:00:05.981Z"
   },
   {
    "duration": 419,
    "start_time": "2024-12-03T00:00:06.464Z"
   },
   {
    "duration": 259,
    "start_time": "2024-12-03T00:00:06.885Z"
   },
   {
    "duration": 2264,
    "start_time": "2024-12-03T00:00:07.145Z"
   },
   {
    "duration": 184,
    "start_time": "2024-12-03T00:00:09.410Z"
   },
   {
    "duration": 13,
    "start_time": "2024-12-03T00:00:09.596Z"
   },
   {
    "duration": 11,
    "start_time": "2024-12-03T00:00:09.611Z"
   },
   {
    "duration": 12,
    "start_time": "2024-12-03T00:00:09.624Z"
   },
   {
    "duration": 44,
    "start_time": "2024-12-03T00:00:09.637Z"
   },
   {
    "duration": 8,
    "start_time": "2024-12-03T00:00:09.683Z"
   },
   {
    "duration": 10,
    "start_time": "2024-12-03T00:00:09.692Z"
   }
  ],
  "kernelspec": {
   "display_name": "Python 3 (ipykernel)",
   "language": "python",
   "name": "python3"
  },
  "language_info": {
   "codemirror_mode": {
    "name": "ipython",
    "version": 3
   },
   "file_extension": ".py",
   "mimetype": "text/x-python",
   "name": "python",
   "nbconvert_exporter": "python",
   "pygments_lexer": "ipython3",
   "version": "3.9.19"
  },
  "toc": {
   "base_numbering": 1,
   "nav_menu": {},
   "number_sections": true,
   "sideBar": true,
   "skip_h1_title": true,
   "title_cell": "Table of Contents",
   "title_sidebar": "Contents",
   "toc_cell": false,
   "toc_position": {},
   "toc_section_display": true,
   "toc_window_display": false
  }
 },
 "nbformat": 4,
 "nbformat_minor": 2
}
